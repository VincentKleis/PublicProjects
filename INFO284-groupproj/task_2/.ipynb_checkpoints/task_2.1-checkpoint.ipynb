{
 "cells": [
  {
   "cell_type": "markdown",
   "metadata": {},
   "source": [
    "dependencies"
   ]
  },
  {
   "cell_type": "code",
   "execution_count": 2,
   "metadata": {},
   "outputs": [],
   "source": [
    "# !python -m spacy download nb_core_news_sm\n",
    "# !python -m spacy download nb_core_news_md\n",
    "# !python -m spacy download nb_core_news_lg\n",
    "# !pip install sklearn\n",
    "# !pip install spacy\n",
    "# !pip install json\n",
    "# !pip install seaborn"
   ]
  },
  {
   "cell_type": "code",
   "execution_count": 3,
   "metadata": {},
   "outputs": [],
   "source": [
    "import spacy\n",
    "import json\n",
    "import pandas\n",
    "from sklearn.feature_extraction.text import TfidfVectorizer\n",
    "from sklearn.model_selection import GridSearchCV\n",
    "from sklearn.pipeline import Pipeline\n",
    "from sklearn.svm import SVC\n",
    "from sklearn.metrics import confusion_matrix"
   ]
  },
  {
   "cell_type": "code",
   "execution_count": 4,
   "metadata": {
    "cell_id": "b50113e0f6ec481f9cde20bac977bd48",
    "deepnote_cell_type": "code",
    "deepnote_to_be_reexecuted": false,
    "execution_millis": 55,
    "execution_start": 1678204396446,
    "source_hash": "68047d63"
   },
   "outputs": [],
   "source": [
    "data_3class = {}\n",
    "for name in [\"train\", \"dev\", \"test\"]:\n",
    "    with open(f\"norec_sentence/3class/{name}.json\") as infile:\n",
    "        data_3class[name] = json.load(infile)"
   ]
  },
  {
   "cell_type": "markdown",
   "metadata": {},
   "source": [
    "Oure data is orginized so that train, test and dev all include text, lables and sent_id so we re orginize the data. With two dictionaries including train-dev-test we can utilize oure text and lable data with shorter lines of code "
   ]
  },
  {
   "cell_type": "code",
   "execution_count": 5,
   "metadata": {
    "cell_id": "c3e296c9e43c49bd900128cc7db2bc8e",
    "deepnote_cell_type": "code",
    "deepnote_to_be_reexecuted": false,
    "execution_millis": 56,
    "execution_start": 1678204396644,
    "source_hash": "d2ed4c02"
   },
   "outputs": [],
   "source": [
    "text = {'train': [x['text'] for x in data_3class['train']], \n",
    "        'dev' : [x['text'] for x in data_3class['dev']],\n",
    "        'test':[x['text'] for x in data_3class['test']]}\n",
    "\n",
    "labels ={'train':[x['label'] for x in data_3class['train']],\n",
    "         'dev' : [x['label'] for x in data_3class['dev']],\n",
    "         'test':[x['label'] for x in data_3class['test']]}"
   ]
  },
  {
   "cell_type": "markdown",
   "metadata": {},
   "source": [
    "custom lemmatizer that lowers every sentence and the uses a spacy model to turn each word into it's lemma if the word is not in the stopword list"
   ]
  },
  {
   "cell_type": "code",
   "execution_count": 33,
   "metadata": {},
   "outputs": [],
   "source": [
    "def lemmatizer(list_sentc:list, nlp:spacy, stop_words:list)->list:\n",
    "    \"\"\"takes a list of sentences and returns a list of lemmatized sentences using the lemma_ \n",
    "    atribute from spacy, and list comprehention to filter out stopwords\n",
    "\n",
    "    Args:\n",
    "        list_sentc (list): a list of multiword sentences\n",
    "        nlp (spacy): a spacy language model for lemmatization\n",
    "        stop_words: a list of stopwords to use for stopwordremoval\n",
    "        \n",
    "    Returns:\n",
    "        list: lemmatized sentences\n",
    "    \"\"\"\n",
    "    result = []\n",
    "    for sentence in list_sentc:\n",
    "        if nlp != None:\n",
    "            doc = nlp(sentence.lower())\n",
    "            result.append(' '.join([token.lemma_ for token in doc if token.lemma_ not in stop_words]))\n",
    "        else:\n",
    "            result.append(' '.join([x for x in sentence.split() if x not in stop_words]))\n",
    "\n",
    "    return result"
   ]
  },
  {
   "cell_type": "markdown",
   "metadata": {},
   "source": [
    "the spacy language models that are compatible with oure lemmatizer function"
   ]
  },
  {
   "cell_type": "code",
   "execution_count": 28,
   "metadata": {},
   "outputs": [],
   "source": [
    "nb_nlp = {'none': None, 'smal': spacy.load('nb_core_news_sm'), 'medium': spacy.load('nb_core_news_md'), 'large':spacy.load('nb_core_news_lg')}"
   ]
  },
  {
   "cell_type": "markdown",
   "metadata": {},
   "source": [
    "we downloaded two lists of stopwords, source at the end of the notebook, and here we read them and compare their length, we also introduce an empty list as the null option"
   ]
  },
  {
   "cell_type": "code",
   "execution_count": 58,
   "metadata": {},
   "outputs": [
    {
     "name": "stdout",
     "output_type": "stream",
     "text": [
      "221\n",
      "118\n"
     ]
    }
   ],
   "source": [
    "file_1 = open('stopwords-no.json')\n",
    "no_stop_1 = json.load(file_1)\n",
    "print(len(no_stop_1))\n",
    "\n",
    "file_2 = open('stopwords_nb.txt')\n",
    "no_stop_2 = file_2.read()\n",
    "no_stop_2 = no_stop_2.split('\\n')\n",
    "print(len(no_stop_2))\n",
    "\n",
    "no_stop = {'none':[], 'short': no_stop_2, 'medium': no_stop_1}"
   ]
  },
  {
   "cell_type": "code",
   "execution_count": 61,
   "metadata": {},
   "outputs": [],
   "source": [
    "text_comb = text['train'] + text['test'] + text['dev']\n",
    "vector_1 = TfidfVectorizer().fit(text_comb)\n",
    "vector_2 = TfidfVectorizer().fit(lemmatizer(text_comb, nb_nlp['large'], no_stop['medium']))\n",
    "\n",
    "n_features = len(vector_1.get_feature_names_out())\n",
    "\n",
    "grid = {}\n",
    "\n",
    "for stop in no_stop:\n",
    "    for nlp in nb_nlp:\n",
    "        if nlp == 'none' and stop == 'none':\n",
    "            grid['none-none'] = vector_1\n",
    "            continue\n",
    "        \n",
    "        vector_2 = TfidfVectorizer().fit(lemmatizer(text_comb, nb_nlp[nlp], no_stop[stop]))\n",
    "\n",
    "        grid[f'{stop}-{nlp}'] = vector_2"
   ]
  },
  {
   "cell_type": "code",
   "execution_count": null,
   "metadata": {},
   "outputs": [],
   "source": [
    "## make a bareplot based on the grid dict from earlier"
   ]
  },
  {
   "cell_type": "code",
   "execution_count": 34,
   "metadata": {},
   "outputs": [
    {
     "name": "stdout",
     "output_type": "stream",
     "text": [
      "100.0% \n",
      "estimated time left in seconds: 0.0\n"
     ]
    }
   ],
   "source": [
    "from time import time\n",
    "from IPython.display import clear_output\n",
    "\n",
    "pipe = Pipeline([('vect', TfidfVectorizer()),\n",
    "                 ('clf', SVC())])\n",
    "\n",
    "params = {'clf__C': [0.001, 1, 1000],\n",
    "          'clf__gamma': [0.1, 1, 10],\n",
    "          'vect__ngram_range': [(1,1), (1,2), (1,3)],\n",
    "          'vect__use_idf': [True, False],\n",
    "          'vect__min_df': [0, 1, 2, 3]}\n",
    "\n",
    "# since gridsearch splits data in the cros validation prosess \n",
    "# we combine it on the beforehand so that we get the moste preccise\n",
    "# score\n",
    "text_comb = text['train'] + text['test'] + text['dev']\n",
    "labels_comb = labels['train'] + labels['test'] + labels['dev']\n",
    "\n",
    "result = {}\n",
    "i = 0\n",
    "times = []\n",
    "\n",
    "# we itterate trough language models and lists of stopwords so that we can make a dictionary of results.\n",
    "# and we print the progress of oure search\n",
    "for model in nb_nlp:\n",
    "    for stop_list in no_stop:\n",
    "        # records the current time since inception in seconds\n",
    "        start = time()\n",
    "\n",
    "        text_comb = lemmatizer(text_comb, nb_nlp[model], no_stop[stop_list])\n",
    "        grid = GridSearchCV(pipe, params, n_jobs=-1)\n",
    "        grid.fit(text_comb, labels_comb)\n",
    "\n",
    "        score = grid.best_score_\n",
    "\n",
    "        result[score] = grid.best_params_\n",
    "        result[score]['lemm__models'] = model\n",
    "        result[score]['lemm__stop'] = stop_list\n",
    "\n",
    "        stop = time()\n",
    "\n",
    "        # adds the running time to times list\n",
    "        times.append(stop-start)\n",
    "\n",
    "        i += 1\n",
    "\n",
    "        #find the average time\n",
    "        time_left_s = ((len(nb_nlp)*len(no_stop))-i)*(sum(times)/len(times))\n",
    "        \n",
    "        # translate time to hours minuts and seconds\n",
    "        if time_left_s < 60.0:\n",
    "            time_left = f'{time_left_s} seconds'\n",
    "        else:\n",
    "            if time_left_s < 3600.0:\n",
    "                time_left_m = time_left_s/60\n",
    "                time_left_s = time_left_s%60\n",
    "                time_left = f'{time_left_m} minuts and {time_left_s} seconds'\n",
    "            else:\n",
    "                time_left_h = time_left_s/3600\n",
    "                time_left_m = (time_left_s%3600)/60\n",
    "                time_left_s = (time_left_s%3600)%60\n",
    "                time_left = f'{time_left_h} houres, {time_left_m} minuts and {time_left_s} seconds'\n",
    "\n",
    "        clear_output(wait=True)\n",
    "        print(f'{(i/(len(nb_nlp)*len(no_stop)))*100}% \\nestimated time left is: {time_left}')"
   ]
  },
  {
   "cell_type": "markdown",
   "metadata": {},
   "source": [
    "these are the optimal parameters from a 8 houre parameter search"
   ]
  },
  {
   "cell_type": "code",
   "execution_count": 36,
   "metadata": {},
   "outputs": [
    {
     "name": "stdout",
     "output_type": "stream",
     "text": [
      "score:0.6211074301940369 \n",
      "parameters:{'clf__C': 1000, 'clf__gamma': 1, 'vect__min_df': 0, 'vect__ngram_range': (1, 1), 'vect__use_idf': False, 'lemm__models': 'none', 'lemm__stop': 'none'}\n"
     ]
    }
   ],
   "source": [
    "max_score = max(result.keys())\n",
    "print(f'score:{max_score} \\nparameters:{result[max_score]}')"
   ]
  },
  {
   "cell_type": "code",
   "execution_count": 40,
   "metadata": {},
   "outputs": [
    {
     "name": "stdout",
     "output_type": "stream",
     "text": [
      "0.6406803685329554\n",
      "AxesSubplot(0.125,0.11;0.62x0.77)\n"
     ]
    },
    {
     "data": {
      "image/png": "[encoded data removed]",
      "text/plain": [
       "<Figure size 640x480 with 2 Axes>"
      ]
     },
     "metadata": {},
     "output_type": "display_data"
    }
   ],
   "source": [
    "from seaborn import heatmap\n",
    "pipe = Pipeline([('vect', TfidfVectorizer(ngram_range=(1,1), min_df=0, use_idf=False)),\n",
    "                 ('clf', SVC(C=1000, gamma=1))])\n",
    "\n",
    "x_train = text['train']+text['test']\n",
    "x_test = text['dev']\n",
    "y_train = labels['train']+labels['test']\n",
    "y_test = labels['dev']\n",
    "\n",
    "pipe.fit(x_train, y_train)\n",
    "\n",
    "prediction = pipe.predict(x_test)\n",
    "\n",
    "cnf_mtrx = confusion_matrix(prediction, y_test, labels = ['Positive', 'Neutral', 'Negative'])\n",
    "\n",
    "matrix = pandas.DataFrame(cnf_mtrx, index = ['True Positive', 'True Neutral', 'True Negative'], columns = ['Pred Positive', 'Pred Neutral', 'Pred Negative'])\n",
    "\n",
    "print(pipe.score(x_test, y_test))\n",
    "print(heatmap(matrix))"
   ]
  },
  {
   "cell_type": "markdown",
   "metadata": {},
   "source": [
    "this function inherits pipe from the previus cell"
   ]
  },
  {
   "cell_type": "code",
   "execution_count": 47,
   "metadata": {},
   "outputs": [],
   "source": [
    "def pred_n_return():\n",
    "    \"\"\"prompts for some sentenc and uses oure model to predict the sentiment of the sentence\n",
    "    \"\"\"\n",
    "    sent = input(\"Type a sentence in norwegian:\")\n",
    "    result = pipe.predict([sent])\n",
    "    print(f\"the sentence is {result[0]}\")"
   ]
  },
  {
   "cell_type": "markdown",
   "metadata": {
    "cell_id": "a8580529da684a1eb1333841880d89b3",
    "deepnote_cell_type": "markdown"
   },
   "source": [
    "Dataset cloned from github: https://github.com/ltgoslo/norec_sentence\n",
    "\n",
    "Kutuzov, A., Barnes, J., Velldal, E., Øvrelid, L., & Oepen, S. (2021). Large-Scale Contextualised Language Modelling for Norwegian. Proceedings of the 23rd Nordic Conference on Computational Linguistics (NoDaLiDa 2021).\n",
    "\n",
    "Øvrelid, L., Mæhlum, P., Barnes, J., & Velldal, E. (2020). A Fine-grained Sentiment Dataset for Norwegian. Proceedings of the 12th Edition of the Language Resources and Evaluation Conference. Marseille, France, 2020."
   ]
  },
  {
   "cell_type": "markdown",
   "metadata": {},
   "source": [
    "stopwords sourced from:  \n",
    "https://searchcode.com/file/257516021/data/stopwords/stopwords-nb.txt/  \n",
    "https://raw.githubusercontent.com/stopwords-iso/stopwords-no/master/stopwords-no.json"
   ]
  },
  {
   "cell_type": "markdown",
   "metadata": {},
   "source": [
    "Through testing with gridsearch and multiple parameters we found that Support Vector-Machines Classifier outperformed other estimators on ourA dataset. \n",
    "\n",
    "To find the optimal performance of SVC we used a pipeline and grid-search to look for hyper parameters, though we did not test for lemmatization parameters with grid-search and instead made a simplistic grid in python, in testing we tried making a class that would be usable with the pipeline and grid-search but failed ass there were a lot of comparability issues, so in the interest of time we moved on. Though it is possible to make a custom class that works with the pipeline and grid-search in sklearn and here a good guide: https://towardsdatascience.com/pipelines-custom-transformers-in-scikit-learn-the-step-by-step-guide-with-python-code-4a7d9b068156?gi=8d6de1529edc.\n",
    "\n",
    "There are two ways of vectorizing test data in sklearn, CountVectorizer and TfidfVectorizer, a not so obvious detail is that TfidfVectorizer has a variable \"use_idf\" that when set to False makes it perform count vectorization in stead. We chose TfidfVectorizer so that we could test what type of vectorization would give the best performance in our gridsearch.\n",
    "\n",
    "our lemmatizer removes at most about 20% of the complexity, this seems like a smal amount as words usually have multiple forms, but when looking into the text data we see that there are a lot of numbers and words that are not Norwegian, these can be model numbers and brand names and can therefore be important for the sentiment analysis. but we can remove unimportant words by limiting the minimum document frequency which we do in our second hyper parameter search.\n",
    "\n",
    "Researchers have found that humans agree on the sentiment of a sentence about 80-85% of the time (https://mashable.com/archive/sentiment-analysis), meaning that if for example our model gets an accuracy of 100% then from a humans perspective it would still only be about 80% accurate, this also means that the data is inconsistently labelled since about 20% of the labels are disputable, so we should accept accuracies of around 80% as being \"ass good as it gets\". \n",
    "source:\n",
    "Sentiment Analysis: High-impact Strategies - What You Need to Know: Definitions, Adoptions, Impact, Benefits, Maturity, Vendors\n",
    "\n",
    "the resulting accuracy is at 64% which seems low, and could probably be higher with more training data, but as we see in the confusion matrix our main problem is the amount of negative labels, there are so few sentences with a negative label that the model struggles at predicting them accurately. Underneath we have made a function so that you can test the prediction power of our model on Norwegian sentences"
   ]
  },
  {
   "cell_type": "code",
   "execution_count": 54,
   "metadata": {},
   "outputs": [
    {
     "name": "stdout",
     "output_type": "stream",
     "text": [
      "the sentence is Positive\n"
     ]
    }
   ],
   "source": [
    "pred_n_return()"
   ]
  }
 ],
 "metadata": {
  "deepnote": {},
  "deepnote_execution_queue": [],
  "deepnote_notebook_id": "61bbf06a06984f559311cbae50bd636f",
  "deepnote_persisted_session": {
   "createdAt": "2023-03-07T09:15:27.662Z"
  },
  "kernelspec": {
   "display_name": "Python 3 (ipykernel)",
   "language": "python",
   "name": "python3"
  },
  "language_info": {
   "codemirror_mode": {
    "name": "ipython",
    "version": 3
   },
   "file_extension": ".py",
   "mimetype": "text/x-python",
   "name": "python",
   "nbconvert_exporter": "python",
   "pygments_lexer": "ipython3",
   "version": "3.10.6"
  },
  "vscode": {
   "interpreter": {
    "hash": "e7370f93d1d0cde622a1f8e1c04877d8463912d04d973331ad4851f04de6915a"
   }
  }
 },
 "nbformat": 4,
 "nbformat_minor": 1
}
