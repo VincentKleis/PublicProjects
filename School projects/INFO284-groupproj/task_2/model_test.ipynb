{
 "cells": [
  {
   "cell_type": "code",
   "execution_count": 2,
   "metadata": {},
   "outputs": [
    {
     "name": "stdout",
     "output_type": "stream",
     "text": [
      "Defaulting to user installation because normal site-packages is not writeable\n",
      "Collecting nb-core-news-sm==3.5.0\n",
      "  Downloading https://github.com/explosion/spacy-models/releases/download/nb_core_news_sm-3.5.0/nb_core_news_sm-3.5.0-py3-none-any.whl (12.5 MB)\n",
      "\u001b[2K     \u001b[90m━━━━━━━━━━━━━━━━━━━━━━━━━━━━━━━━━━━━━━━━\u001b[0m \u001b[32m12.5/12.5 MB\u001b[0m \u001b[31m11.0 MB/s\u001b[0m eta \u001b[36m0:00:00\u001b[0m00:01\u001b[0m00:01\u001b[0m\n",
      "\u001b[?25hRequirement already satisfied: spacy<3.6.0,>=3.5.0 in /home/vincent/.local/lib/python3.10/site-packages (from nb-core-news-sm==3.5.0) (3.5.0)\n",
      "Requirement already satisfied: pathy>=0.10.0 in /home/vincent/.local/lib/python3.10/site-packages (from spacy<3.6.0,>=3.5.0->nb-core-news-sm==3.5.0) (0.10.1)\n",
      "Requirement already satisfied: wasabi<1.2.0,>=0.9.1 in /home/vincent/.local/lib/python3.10/site-packages (from spacy<3.6.0,>=3.5.0->nb-core-news-sm==3.5.0) (1.1.1)\n",
      "Requirement already satisfied: preshed<3.1.0,>=3.0.2 in /home/vincent/.local/lib/python3.10/site-packages (from spacy<3.6.0,>=3.5.0->nb-core-news-sm==3.5.0) (3.0.8)\n",
      "Requirement already satisfied: jinja2 in /home/vincent/.local/lib/python3.10/site-packages (from spacy<3.6.0,>=3.5.0->nb-core-news-sm==3.5.0) (3.1.2)\n",
      "Requirement already satisfied: thinc<8.2.0,>=8.1.0 in /home/vincent/.local/lib/python3.10/site-packages (from spacy<3.6.0,>=3.5.0->nb-core-news-sm==3.5.0) (8.1.7)\n",
      "Requirement already satisfied: packaging>=20.0 in /home/vincent/.local/lib/python3.10/site-packages (from spacy<3.6.0,>=3.5.0->nb-core-news-sm==3.5.0) (23.0)\n",
      "Requirement already satisfied: pydantic!=1.8,!=1.8.1,<1.11.0,>=1.7.4 in /home/vincent/.local/lib/python3.10/site-packages (from spacy<3.6.0,>=3.5.0->nb-core-news-sm==3.5.0) (1.10.5)\n",
      "Requirement already satisfied: tqdm<5.0.0,>=4.38.0 in /home/vincent/.local/lib/python3.10/site-packages (from spacy<3.6.0,>=3.5.0->nb-core-news-sm==3.5.0) (4.64.1)\n",
      "Requirement already satisfied: cymem<2.1.0,>=2.0.2 in /home/vincent/.local/lib/python3.10/site-packages (from spacy<3.6.0,>=3.5.0->nb-core-news-sm==3.5.0) (2.0.7)\n",
      "Requirement already satisfied: srsly<3.0.0,>=2.4.3 in /home/vincent/.local/lib/python3.10/site-packages (from spacy<3.6.0,>=3.5.0->nb-core-news-sm==3.5.0) (2.4.6)\n",
      "Requirement already satisfied: setuptools in /usr/lib/python3/dist-packages (from spacy<3.6.0,>=3.5.0->nb-core-news-sm==3.5.0) (59.6.0)\n",
      "Requirement already satisfied: typer<0.8.0,>=0.3.0 in /home/vincent/.local/lib/python3.10/site-packages (from spacy<3.6.0,>=3.5.0->nb-core-news-sm==3.5.0) (0.7.0)\n",
      "Requirement already satisfied: murmurhash<1.1.0,>=0.28.0 in /home/vincent/.local/lib/python3.10/site-packages (from spacy<3.6.0,>=3.5.0->nb-core-news-sm==3.5.0) (1.0.9)\n",
      "Requirement already satisfied: spacy-loggers<2.0.0,>=1.0.0 in /home/vincent/.local/lib/python3.10/site-packages (from spacy<3.6.0,>=3.5.0->nb-core-news-sm==3.5.0) (1.0.4)\n",
      "Requirement already satisfied: spacy-legacy<3.1.0,>=3.0.11 in /home/vincent/.local/lib/python3.10/site-packages (from spacy<3.6.0,>=3.5.0->nb-core-news-sm==3.5.0) (3.0.12)\n",
      "Requirement already satisfied: smart-open<7.0.0,>=5.2.1 in /home/vincent/.local/lib/python3.10/site-packages (from spacy<3.6.0,>=3.5.0->nb-core-news-sm==3.5.0) (6.3.0)\n",
      "Requirement already satisfied: langcodes<4.0.0,>=3.2.0 in /home/vincent/.local/lib/python3.10/site-packages (from spacy<3.6.0,>=3.5.0->nb-core-news-sm==3.5.0) (3.3.0)\n",
      "Requirement already satisfied: catalogue<2.1.0,>=2.0.6 in /home/vincent/.local/lib/python3.10/site-packages (from spacy<3.6.0,>=3.5.0->nb-core-news-sm==3.5.0) (2.0.8)\n",
      "Requirement already satisfied: numpy>=1.15.0 in /home/vincent/.local/lib/python3.10/site-packages (from spacy<3.6.0,>=3.5.0->nb-core-news-sm==3.5.0) (1.24.1)\n",
      "Requirement already satisfied: requests<3.0.0,>=2.13.0 in /home/vincent/.local/lib/python3.10/site-packages (from spacy<3.6.0,>=3.5.0->nb-core-news-sm==3.5.0) (2.28.2)\n",
      "Requirement already satisfied: typing-extensions>=4.2.0 in /home/vincent/.local/lib/python3.10/site-packages (from pydantic!=1.8,!=1.8.1,<1.11.0,>=1.7.4->spacy<3.6.0,>=3.5.0->nb-core-news-sm==3.5.0) (4.5.0)\n",
      "Requirement already satisfied: charset-normalizer<4,>=2 in /home/vincent/.local/lib/python3.10/site-packages (from requests<3.0.0,>=2.13.0->spacy<3.6.0,>=3.5.0->nb-core-news-sm==3.5.0) (3.1.0)\n",
      "Requirement already satisfied: idna<4,>=2.5 in /usr/lib/python3/dist-packages (from requests<3.0.0,>=2.13.0->spacy<3.6.0,>=3.5.0->nb-core-news-sm==3.5.0) (3.3)\n",
      "Requirement already satisfied: urllib3<1.27,>=1.21.1 in /usr/lib/python3/dist-packages (from requests<3.0.0,>=2.13.0->spacy<3.6.0,>=3.5.0->nb-core-news-sm==3.5.0) (1.26.5)\n",
      "Requirement already satisfied: certifi>=2017.4.17 in /home/vincent/.local/lib/python3.10/site-packages (from requests<3.0.0,>=2.13.0->spacy<3.6.0,>=3.5.0->nb-core-news-sm==3.5.0) (2022.12.7)\n",
      "Requirement already satisfied: confection<1.0.0,>=0.0.1 in /home/vincent/.local/lib/python3.10/site-packages (from thinc<8.2.0,>=8.1.0->spacy<3.6.0,>=3.5.0->nb-core-news-sm==3.5.0) (0.0.4)\n",
      "Requirement already satisfied: blis<0.8.0,>=0.7.8 in /home/vincent/.local/lib/python3.10/site-packages (from thinc<8.2.0,>=8.1.0->spacy<3.6.0,>=3.5.0->nb-core-news-sm==3.5.0) (0.7.9)\n",
      "Requirement already satisfied: click<9.0.0,>=7.1.1 in /usr/lib/python3/dist-packages (from typer<0.8.0,>=0.3.0->spacy<3.6.0,>=3.5.0->nb-core-news-sm==3.5.0) (8.0.3)\n",
      "Requirement already satisfied: MarkupSafe>=2.0 in /usr/lib/python3/dist-packages (from jinja2->spacy<3.6.0,>=3.5.0->nb-core-news-sm==3.5.0) (2.0.1)\n",
      "\u001b[38;5;2m✔ Download and installation successful\u001b[0m\n",
      "You can now load the package via spacy.load('nb_core_news_sm')\n",
      "Defaulting to user installation because normal site-packages is not writeable\n",
      "Collecting nb-core-news-md==3.5.0\n",
      "  Downloading https://github.com/explosion/spacy-models/releases/download/nb_core_news_md-3.5.0/nb_core_news_md-3.5.0-py3-none-any.whl (42.3 MB)\n",
      "\u001b[2K     \u001b[90m━━━━━━━━━━━━━━━━━━━━━━━━━━━━━━━━━━━━━━━━\u001b[0m \u001b[32m42.3/42.3 MB\u001b[0m \u001b[31m10.0 MB/s\u001b[0m eta \u001b[36m0:00:00\u001b[0m00:01\u001b[0m00:01\u001b[0m\n",
      "\u001b[?25hRequirement already satisfied: spacy<3.6.0,>=3.5.0 in /home/vincent/.local/lib/python3.10/site-packages (from nb-core-news-md==3.5.0) (3.5.0)\n",
      "Requirement already satisfied: numpy>=1.15.0 in /home/vincent/.local/lib/python3.10/site-packages (from spacy<3.6.0,>=3.5.0->nb-core-news-md==3.5.0) (1.24.1)\n",
      "Requirement already satisfied: spacy-legacy<3.1.0,>=3.0.11 in /home/vincent/.local/lib/python3.10/site-packages (from spacy<3.6.0,>=3.5.0->nb-core-news-md==3.5.0) (3.0.12)\n",
      "Requirement already satisfied: typer<0.8.0,>=0.3.0 in /home/vincent/.local/lib/python3.10/site-packages (from spacy<3.6.0,>=3.5.0->nb-core-news-md==3.5.0) (0.7.0)\n",
      "Requirement already satisfied: requests<3.0.0,>=2.13.0 in /home/vincent/.local/lib/python3.10/site-packages (from spacy<3.6.0,>=3.5.0->nb-core-news-md==3.5.0) (2.28.2)\n",
      "Requirement already satisfied: pydantic!=1.8,!=1.8.1,<1.11.0,>=1.7.4 in /home/vincent/.local/lib/python3.10/site-packages (from spacy<3.6.0,>=3.5.0->nb-core-news-md==3.5.0) (1.10.5)\n",
      "Requirement already satisfied: tqdm<5.0.0,>=4.38.0 in /home/vincent/.local/lib/python3.10/site-packages (from spacy<3.6.0,>=3.5.0->nb-core-news-md==3.5.0) (4.64.1)\n",
      "Requirement already satisfied: setuptools in /usr/lib/python3/dist-packages (from spacy<3.6.0,>=3.5.0->nb-core-news-md==3.5.0) (59.6.0)\n",
      "Requirement already satisfied: jinja2 in /home/vincent/.local/lib/python3.10/site-packages (from spacy<3.6.0,>=3.5.0->nb-core-news-md==3.5.0) (3.1.2)\n",
      "Requirement already satisfied: langcodes<4.0.0,>=3.2.0 in /home/vincent/.local/lib/python3.10/site-packages (from spacy<3.6.0,>=3.5.0->nb-core-news-md==3.5.0) (3.3.0)\n",
      "Requirement already satisfied: wasabi<1.2.0,>=0.9.1 in /home/vincent/.local/lib/python3.10/site-packages (from spacy<3.6.0,>=3.5.0->nb-core-news-md==3.5.0) (1.1.1)\n",
      "Requirement already satisfied: cymem<2.1.0,>=2.0.2 in /home/vincent/.local/lib/python3.10/site-packages (from spacy<3.6.0,>=3.5.0->nb-core-news-md==3.5.0) (2.0.7)\n",
      "Requirement already satisfied: smart-open<7.0.0,>=5.2.1 in /home/vincent/.local/lib/python3.10/site-packages (from spacy<3.6.0,>=3.5.0->nb-core-news-md==3.5.0) (6.3.0)\n",
      "Requirement already satisfied: spacy-loggers<2.0.0,>=1.0.0 in /home/vincent/.local/lib/python3.10/site-packages (from spacy<3.6.0,>=3.5.0->nb-core-news-md==3.5.0) (1.0.4)\n",
      "Requirement already satisfied: preshed<3.1.0,>=3.0.2 in /home/vincent/.local/lib/python3.10/site-packages (from spacy<3.6.0,>=3.5.0->nb-core-news-md==3.5.0) (3.0.8)\n",
      "Requirement already satisfied: srsly<3.0.0,>=2.4.3 in /home/vincent/.local/lib/python3.10/site-packages (from spacy<3.6.0,>=3.5.0->nb-core-news-md==3.5.0) (2.4.6)\n",
      "Requirement already satisfied: murmurhash<1.1.0,>=0.28.0 in /home/vincent/.local/lib/python3.10/site-packages (from spacy<3.6.0,>=3.5.0->nb-core-news-md==3.5.0) (1.0.9)\n",
      "Requirement already satisfied: packaging>=20.0 in /home/vincent/.local/lib/python3.10/site-packages (from spacy<3.6.0,>=3.5.0->nb-core-news-md==3.5.0) (23.0)\n",
      "Requirement already satisfied: thinc<8.2.0,>=8.1.0 in /home/vincent/.local/lib/python3.10/site-packages (from spacy<3.6.0,>=3.5.0->nb-core-news-md==3.5.0) (8.1.7)\n",
      "Requirement already satisfied: catalogue<2.1.0,>=2.0.6 in /home/vincent/.local/lib/python3.10/site-packages (from spacy<3.6.0,>=3.5.0->nb-core-news-md==3.5.0) (2.0.8)\n",
      "Requirement already satisfied: pathy>=0.10.0 in /home/vincent/.local/lib/python3.10/site-packages (from spacy<3.6.0,>=3.5.0->nb-core-news-md==3.5.0) (0.10.1)\n",
      "Requirement already satisfied: typing-extensions>=4.2.0 in /home/vincent/.local/lib/python3.10/site-packages (from pydantic!=1.8,!=1.8.1,<1.11.0,>=1.7.4->spacy<3.6.0,>=3.5.0->nb-core-news-md==3.5.0) (4.5.0)\n",
      "Requirement already satisfied: certifi>=2017.4.17 in /home/vincent/.local/lib/python3.10/site-packages (from requests<3.0.0,>=2.13.0->spacy<3.6.0,>=3.5.0->nb-core-news-md==3.5.0) (2022.12.7)\n",
      "Requirement already satisfied: charset-normalizer<4,>=2 in /home/vincent/.local/lib/python3.10/site-packages (from requests<3.0.0,>=2.13.0->spacy<3.6.0,>=3.5.0->nb-core-news-md==3.5.0) (3.1.0)\n",
      "Requirement already satisfied: urllib3<1.27,>=1.21.1 in /usr/lib/python3/dist-packages (from requests<3.0.0,>=2.13.0->spacy<3.6.0,>=3.5.0->nb-core-news-md==3.5.0) (1.26.5)\n",
      "Requirement already satisfied: idna<4,>=2.5 in /usr/lib/python3/dist-packages (from requests<3.0.0,>=2.13.0->spacy<3.6.0,>=3.5.0->nb-core-news-md==3.5.0) (3.3)\n",
      "Requirement already satisfied: confection<1.0.0,>=0.0.1 in /home/vincent/.local/lib/python3.10/site-packages (from thinc<8.2.0,>=8.1.0->spacy<3.6.0,>=3.5.0->nb-core-news-md==3.5.0) (0.0.4)\n",
      "Requirement already satisfied: blis<0.8.0,>=0.7.8 in /home/vincent/.local/lib/python3.10/site-packages (from thinc<8.2.0,>=8.1.0->spacy<3.6.0,>=3.5.0->nb-core-news-md==3.5.0) (0.7.9)\n",
      "Requirement already satisfied: click<9.0.0,>=7.1.1 in /usr/lib/python3/dist-packages (from typer<0.8.0,>=0.3.0->spacy<3.6.0,>=3.5.0->nb-core-news-md==3.5.0) (8.0.3)\n",
      "Requirement already satisfied: MarkupSafe>=2.0 in /usr/lib/python3/dist-packages (from jinja2->spacy<3.6.0,>=3.5.0->nb-core-news-md==3.5.0) (2.0.1)\n",
      "\u001b[38;5;2m✔ Download and installation successful\u001b[0m\n",
      "You can now load the package via spacy.load('nb_core_news_md')\n",
      "Defaulting to user installation because normal site-packages is not writeable\n",
      "Collecting nb-core-news-lg==3.5.0\n",
      "  Downloading https://github.com/explosion/spacy-models/releases/download/nb_core_news_lg-3.5.0/nb_core_news_lg-3.5.0-py3-none-any.whl (569.4 MB)\n",
      "\u001b[2K     \u001b[90m━━━━━━━━━━━━━━━━━━━━━━━━━━━━━━━━━━━━━━━\u001b[0m \u001b[32m569.4/569.4 MB\u001b[0m \u001b[31m4.5 MB/s\u001b[0m eta \u001b[36m0:00:00\u001b[0m00:01\u001b[0m00:02\u001b[0m\n",
      "\u001b[?25hRequirement already satisfied: spacy<3.6.0,>=3.5.0 in /home/vincent/.local/lib/python3.10/site-packages (from nb-core-news-lg==3.5.0) (3.5.0)\n",
      "Requirement already satisfied: smart-open<7.0.0,>=5.2.1 in /home/vincent/.local/lib/python3.10/site-packages (from spacy<3.6.0,>=3.5.0->nb-core-news-lg==3.5.0) (6.3.0)\n",
      "Requirement already satisfied: langcodes<4.0.0,>=3.2.0 in /home/vincent/.local/lib/python3.10/site-packages (from spacy<3.6.0,>=3.5.0->nb-core-news-lg==3.5.0) (3.3.0)\n",
      "Requirement already satisfied: requests<3.0.0,>=2.13.0 in /home/vincent/.local/lib/python3.10/site-packages (from spacy<3.6.0,>=3.5.0->nb-core-news-lg==3.5.0) (2.28.2)\n",
      "Requirement already satisfied: packaging>=20.0 in /home/vincent/.local/lib/python3.10/site-packages (from spacy<3.6.0,>=3.5.0->nb-core-news-lg==3.5.0) (23.0)\n",
      "Requirement already satisfied: spacy-loggers<2.0.0,>=1.0.0 in /home/vincent/.local/lib/python3.10/site-packages (from spacy<3.6.0,>=3.5.0->nb-core-news-lg==3.5.0) (1.0.4)\n",
      "Requirement already satisfied: setuptools in /usr/lib/python3/dist-packages (from spacy<3.6.0,>=3.5.0->nb-core-news-lg==3.5.0) (59.6.0)\n",
      "Requirement already satisfied: wasabi<1.2.0,>=0.9.1 in /home/vincent/.local/lib/python3.10/site-packages (from spacy<3.6.0,>=3.5.0->nb-core-news-lg==3.5.0) (1.1.1)\n",
      "Requirement already satisfied: tqdm<5.0.0,>=4.38.0 in /home/vincent/.local/lib/python3.10/site-packages (from spacy<3.6.0,>=3.5.0->nb-core-news-lg==3.5.0) (4.64.1)\n",
      "Requirement already satisfied: typer<0.8.0,>=0.3.0 in /home/vincent/.local/lib/python3.10/site-packages (from spacy<3.6.0,>=3.5.0->nb-core-news-lg==3.5.0) (0.7.0)\n",
      "Requirement already satisfied: pydantic!=1.8,!=1.8.1,<1.11.0,>=1.7.4 in /home/vincent/.local/lib/python3.10/site-packages (from spacy<3.6.0,>=3.5.0->nb-core-news-lg==3.5.0) (1.10.5)\n",
      "Requirement already satisfied: preshed<3.1.0,>=3.0.2 in /home/vincent/.local/lib/python3.10/site-packages (from spacy<3.6.0,>=3.5.0->nb-core-news-lg==3.5.0) (3.0.8)\n",
      "Requirement already satisfied: thinc<8.2.0,>=8.1.0 in /home/vincent/.local/lib/python3.10/site-packages (from spacy<3.6.0,>=3.5.0->nb-core-news-lg==3.5.0) (8.1.7)\n",
      "Requirement already satisfied: srsly<3.0.0,>=2.4.3 in /home/vincent/.local/lib/python3.10/site-packages (from spacy<3.6.0,>=3.5.0->nb-core-news-lg==3.5.0) (2.4.6)\n",
      "Requirement already satisfied: numpy>=1.15.0 in /home/vincent/.local/lib/python3.10/site-packages (from spacy<3.6.0,>=3.5.0->nb-core-news-lg==3.5.0) (1.24.1)\n",
      "Requirement already satisfied: spacy-legacy<3.1.0,>=3.0.11 in /home/vincent/.local/lib/python3.10/site-packages (from spacy<3.6.0,>=3.5.0->nb-core-news-lg==3.5.0) (3.0.12)\n",
      "Requirement already satisfied: jinja2 in /home/vincent/.local/lib/python3.10/site-packages (from spacy<3.6.0,>=3.5.0->nb-core-news-lg==3.5.0) (3.1.2)\n",
      "Requirement already satisfied: cymem<2.1.0,>=2.0.2 in /home/vincent/.local/lib/python3.10/site-packages (from spacy<3.6.0,>=3.5.0->nb-core-news-lg==3.5.0) (2.0.7)\n",
      "Requirement already satisfied: murmurhash<1.1.0,>=0.28.0 in /home/vincent/.local/lib/python3.10/site-packages (from spacy<3.6.0,>=3.5.0->nb-core-news-lg==3.5.0) (1.0.9)\n",
      "Requirement already satisfied: catalogue<2.1.0,>=2.0.6 in /home/vincent/.local/lib/python3.10/site-packages (from spacy<3.6.0,>=3.5.0->nb-core-news-lg==3.5.0) (2.0.8)\n",
      "Requirement already satisfied: pathy>=0.10.0 in /home/vincent/.local/lib/python3.10/site-packages (from spacy<3.6.0,>=3.5.0->nb-core-news-lg==3.5.0) (0.10.1)\n",
      "Requirement already satisfied: typing-extensions>=4.2.0 in /home/vincent/.local/lib/python3.10/site-packages (from pydantic!=1.8,!=1.8.1,<1.11.0,>=1.7.4->spacy<3.6.0,>=3.5.0->nb-core-news-lg==3.5.0) (4.5.0)\n",
      "Requirement already satisfied: charset-normalizer<4,>=2 in /home/vincent/.local/lib/python3.10/site-packages (from requests<3.0.0,>=2.13.0->spacy<3.6.0,>=3.5.0->nb-core-news-lg==3.5.0) (3.1.0)\n",
      "Requirement already satisfied: urllib3<1.27,>=1.21.1 in /usr/lib/python3/dist-packages (from requests<3.0.0,>=2.13.0->spacy<3.6.0,>=3.5.0->nb-core-news-lg==3.5.0) (1.26.5)\n",
      "Requirement already satisfied: certifi>=2017.4.17 in /home/vincent/.local/lib/python3.10/site-packages (from requests<3.0.0,>=2.13.0->spacy<3.6.0,>=3.5.0->nb-core-news-lg==3.5.0) (2022.12.7)\n",
      "Requirement already satisfied: idna<4,>=2.5 in /usr/lib/python3/dist-packages (from requests<3.0.0,>=2.13.0->spacy<3.6.0,>=3.5.0->nb-core-news-lg==3.5.0) (3.3)\n",
      "Requirement already satisfied: blis<0.8.0,>=0.7.8 in /home/vincent/.local/lib/python3.10/site-packages (from thinc<8.2.0,>=8.1.0->spacy<3.6.0,>=3.5.0->nb-core-news-lg==3.5.0) (0.7.9)\n",
      "Requirement already satisfied: confection<1.0.0,>=0.0.1 in /home/vincent/.local/lib/python3.10/site-packages (from thinc<8.2.0,>=8.1.0->spacy<3.6.0,>=3.5.0->nb-core-news-lg==3.5.0) (0.0.4)\n",
      "Requirement already satisfied: click<9.0.0,>=7.1.1 in /usr/lib/python3/dist-packages (from typer<0.8.0,>=0.3.0->spacy<3.6.0,>=3.5.0->nb-core-news-lg==3.5.0) (8.0.3)\n",
      "Requirement already satisfied: MarkupSafe>=2.0 in /usr/lib/python3/dist-packages (from jinja2->spacy<3.6.0,>=3.5.0->nb-core-news-lg==3.5.0) (2.0.1)\n",
      "\u001b[38;5;2m✔ Download and installation successful\u001b[0m\n",
      "You can now load the package via spacy.load('nb_core_news_lg')\n",
      "Defaulting to user installation because normal site-packages is not writeable\n",
      "Requirement already satisfied: sklearn in /home/vincent/.local/lib/python3.10/site-packages (0.0.post1)\n"
     ]
    }
   ],
   "source": [
    "!python -m spacy download nb_core_news_sm\n",
    "!python -m spacy download nb_core_news_md\n",
    "!python -m spacy download nb_core_news_lg\n",
    "!pip install sklearn"
   ]
  },
  {
   "cell_type": "code",
   "execution_count": 3,
   "metadata": {},
   "outputs": [],
   "source": [
    "import spacy\n",
    "import json\n",
    "import pandas\n",
    "from numpy import arange\n",
    "from sklearn.feature_extraction.text import TfidfVectorizer\n",
    "from sklearn.model_selection import GridSearchCV\n",
    "from sklearn.pipeline import Pipeline\n",
    "from sklearn.naive_bayes import MultinomialNB, BernoulliNB\n",
    "from sklearn.ensemble import RandomForestClassifier, GradientBoostingClassifier\n",
    "from sklearn.linear_model import LogisticRegression\n",
    "from sklearn.svm import SVC\n",
    "from sklearn.preprocessing import StandardScaler\n",
    "from sklearn.neural_network import MLPClassifier\n",
    "from sklearn.metrics import confusion_matrix"
   ]
  },
  {
   "cell_type": "code",
   "execution_count": 4,
   "metadata": {
    "cell_id": "b50113e0f6ec481f9cde20bac977bd48",
    "deepnote_cell_type": "code",
    "deepnote_to_be_reexecuted": false,
    "execution_millis": 55,
    "execution_start": 1678204396446,
    "source_hash": "68047d63"
   },
   "outputs": [],
   "source": [
    "data_3class = {}\n",
    "for name in [\"train\", \"dev\", \"test\"]:\n",
    "    with open(f\"norec_sentence/3class/{name}.json\") as infile:\n",
    "        data_3class[name] = json.load(infile)\n"
   ]
  },
  {
   "cell_type": "markdown",
   "metadata": {
    "cell_id": "89ca9c2d4c154c748bfd0174d15b7df1",
    "deepnote_cell_type": "markdown"
   },
   "source": [
    "The data from thre json files named train, dev, and test are loaded are collected in the two dictionaries data_3class and data_binary"
   ]
  },
  {
   "cell_type": "markdown",
   "metadata": {
    "cell_id": "a8580529da684a1eb1333841880d89b3",
    "deepnote_cell_type": "markdown"
   },
   "source": [
    "Dataset cloned from github: https://github.com/ltgoslo/norec_sentence\n",
    "\n",
    "Kutuzov, A., Barnes, J., Velldal, E., Øvrelid, L., & Oepen, S. (2021). Large-Scale Contextualised Language Modelling for Norwegian. Proceedings of the 23rd Nordic Conference on Computational Linguistics (NoDaLiDa 2021).\n",
    "\n",
    "Øvrelid, L., Mæhlum, P., Barnes, J., & Velldal, E. (2020). A Fine-grained Sentiment Dataset for Norwegian. Proceedings of the 12th Edition of the Language Resources and Evaluation Conference. Marseille, France, 2020."
   ]
  },
  {
   "cell_type": "code",
   "execution_count": 5,
   "metadata": {
    "cell_id": "c3e296c9e43c49bd900128cc7db2bc8e",
    "deepnote_cell_type": "code",
    "deepnote_to_be_reexecuted": false,
    "execution_millis": 56,
    "execution_start": 1678204396644,
    "source_hash": "d2ed4c02"
   },
   "outputs": [],
   "source": [
    "# re structuring so that it is easier to work with and look nicer later on\n",
    "\n",
    "text_3class = {'train':[x['text'] for x in data_3class['train']], \n",
    "               'test':[x['text'] for x in data_3class['test']]}\n",
    "\n",
    "labels_3class ={'train':[x['label'] for x in data_3class['train']],\n",
    "                'test':[x['label'] for x in data_3class['test']]}"
   ]
  },
  {
   "cell_type": "code",
   "execution_count": 6,
   "metadata": {},
   "outputs": [],
   "source": [
    "nb_nlp = {'smal': spacy.load('nb_core_news_sm'), \n",
    "          'medium': spacy.load('nb_core_news_md'), \n",
    "          'large':spacy.load('nb_core_news_lg')}"
   ]
  },
  {
   "cell_type": "code",
   "execution_count": 7,
   "metadata": {},
   "outputs": [],
   "source": [
    "file_1 = open('stopwords-no.json')\n",
    "file_2 = open('stopwords_nb.txt')\n",
    "no_stop = {'short': file_2.read().split('\\n'), 'long':json.load(file_1)}"
   ]
  },
  {
   "cell_type": "code",
   "execution_count": 8,
   "metadata": {},
   "outputs": [],
   "source": [
    "class lemmatizer:\n",
    "    data = []\n",
    "    nlp = spacy\n",
    "    stop = []\n",
    "\n",
    "    def __init__(self, nlp:spacy = nb_nlp['smal'], stop:list = []):\n",
    "        self.nlp = nlp\n",
    "        self.stop = stop\n",
    "\n",
    "    def fit(self, list_sentc:list):\n",
    "        \"\"\"takes a list of sentences and returns a list of lemmatized sentences\n",
    "\n",
    "        Args:\n",
    "            list_sentc (list): sentences\n",
    "\n",
    "        Returns:\n",
    "            list: lemmatized sentences\n",
    "        \"\"\"\n",
    "        for sentence in list_sentc:\n",
    "            doc = self.nlp(sentence.lower())\n",
    "            self.data.append(' '.join(\n",
    "                [token.lemma_ for token in \n",
    "                 doc if token.lemma_ not in self.stop]))\n",
    "            \n",
    "    def get_params(self, deep=False):\n",
    "        return {\"nlp\": self.nlp, \"stop\": self.stop}\n",
    "\n",
    "    def set_params(self, **parameters):\n",
    "        for parameter, value in parameters.items():\n",
    "            setattr(self, parameter, value)\n",
    "        return self\n",
    "\n",
    "    def transform(self)->list:\n",
    "        return self.data"
   ]
  },
  {
   "cell_type": "code",
   "execution_count": 9,
   "metadata": {},
   "outputs": [
    {
     "name": "stderr",
     "output_type": "stream",
     "text": [
      "/home/vincent/.local/lib/python3.10/site-packages/joblib/externals/loky/process_executor.py:700: UserWarning: A worker stopped while some jobs were given to the executor. This can be caused by a too short worker timeout or by a memory leak.\n",
      "  warnings.warn(\n"
     ]
    }
   ],
   "source": [
    "from sklearn.neural_network import MLPClassifier\n",
    "from sklearn.neighbors import KNeighborsClassifier\n",
    "from sklearn.svm import SVC\n",
    "from sklearn.gaussian_process import GaussianProcessClassifier\n",
    "from sklearn.gaussian_process.kernels import RBF\n",
    "from sklearn.tree import DecisionTreeClassifier\n",
    "from sklearn.ensemble import RandomForestClassifier, AdaBoostClassifier\n",
    "from sklearn.naive_bayes import GaussianNB\n",
    "from sklearn.pipeline import Pipeline\n",
    "\n",
    "classifiers =[\n",
    "    MLPClassifier(),\n",
    "    KNeighborsClassifier(n_jobs=-1),\n",
    "    SVC(),\n",
    "    GaussianProcessClassifier(n_jobs=-1),\n",
    "    RBF(),\n",
    "    DecisionTreeClassifier(),\n",
    "    RandomForestClassifier(n_jobs=-1),\n",
    "    AdaBoostClassifier(),\n",
    "    GaussianNB(),\n",
    "]\n",
    "\n",
    "text = data_3class['train'] + data_3class['test']\n",
    "labels = labels_3class['train'] + labels_3class['test']\n",
    "\n",
    "for clf in classifiers:\n",
    "    pipe = Pipeline([\n",
    "        (\"lem\", lemmatizer()),\n",
    "        (\"vct\", TfidfVectorizer()),\n",
    "        (\"clf\", clf)])\n",
    "    \n",
    "    parms = {\"lem__stop\": [[] ,no_stop['short'], no_stop['long']],\n",
    "            \"lem__nlp\": [nb_nlp['smal'], nb_nlp['medium'], nb_nlp['large']],\n",
    "            \"vct__use_idf\": [True, False],\n",
    "            \"vct__ngram_range\": [(1,1), (1,2), (1,3)]}\n",
    "\n",
    "    grid = GridSearchCV(pipe, parms, n_jobs=4)\n",
    "    grid.fit(text, labels)\n",
    "\n",
    "    score = grid.best_score_\n",
    "    estimator = grid.best_estimator_\n",
    "    \n",
    "    print(clf, score, estimator, sep='\\n')"
   ]
  },
  {
   "cell_type": "markdown",
   "metadata": {
    "cell_id": "f62a1604597349db93d5a553edab898a",
    "deepnote_cell_type": "markdown"
   },
   "source": [
    "CountVectorizer, tokenizes, builds a vocabulary, and encodes the text, in other words, it seperates sentences into lists of words, removes norwegian stopwords (due to us defining norwegian stopwords), and builds dictionaries of the frequencie of each word across each sentence. the stoppwords used here are downloaded from the git: https://raw.githubusercontent.com/stopwords-iso/stopwords-no/master/stopwords-no.json"
   ]
  },
  {
   "cell_type": "markdown",
   "metadata": {
    "cell_id": "b8d5ac33b7c94ec49d5a653a308be068",
    "deepnote_cell_type": "markdown"
   },
   "source": [
    "The transform function turns the dictionaries from \"CountVectorizer\" into vectors, and the \"get_feature_names_out\" function returns the words in the two vectors as a list in alphabetical order. we see that the vectors build on lemmatized sentences are smaler"
   ]
  },
  {
   "cell_type": "markdown",
   "metadata": {},
   "source": [
    "still need to test neural network accuracy, and find the optimal classifier for binary sentiment analysis"
   ]
  }
 ],
 "metadata": {
  "deepnote": {},
  "deepnote_execution_queue": [],
  "deepnote_notebook_id": "61bbf06a06984f559311cbae50bd636f",
  "deepnote_persisted_session": {
   "createdAt": "2023-03-07T09:15:27.662Z"
  },
  "kernelspec": {
   "display_name": "Python 3 (ipykernel)",
   "language": "python",
   "name": "python3"
  },
  "language_info": {
   "codemirror_mode": {
    "name": "ipython",
    "version": 3
   },
   "file_extension": ".py",
   "mimetype": "text/x-python",
   "name": "python",
   "nbconvert_exporter": "python",
   "pygments_lexer": "ipython3",
   "version": "3.10.6"
  },
  "vscode": {
   "interpreter": {
    "hash": "e7370f93d1d0cde622a1f8e1c04877d8463912d04d973331ad4851f04de6915a"
   }
  }
 },
 "nbformat": 4,
 "nbformat_minor": 1
}
