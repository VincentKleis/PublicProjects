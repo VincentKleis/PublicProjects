{
 "cells": [
  {
   "attachments": {},
   "cell_type": "markdown",
   "metadata": {},
   "source": [
    "two types of prediction in machine learning, classification and regression, where classification is trying to find the right classification regression is trying to find the point on some cuntinuous line of possible answers"
   ]
  },
  {
   "attachments": {},
   "cell_type": "markdown",
   "metadata": {},
   "source": [
    "we want our prediction moddel to be ass acurate as possible (not underfitted) but at the same time we want oure model to not try to to accuratly predict the training data so that we can make shure that it can predict more general data (not overfitted)."
   ]
  },
  {
   "attachments": {},
   "cell_type": "markdown",
   "metadata": {},
   "source": [
    "sometimes you just need more data"
   ]
  },
  {
   "cell_type": "markdown",
   "metadata": {},
   "source": []
  }
 ],
 "metadata": {
  "language_info": {
   "name": "python"
  },
  "orig_nbformat": 4
 },
 "nbformat": 4,
 "nbformat_minor": 2
}
