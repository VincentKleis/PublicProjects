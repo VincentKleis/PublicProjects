{
 "cells": [
  {
   "cell_type": "code",
   "execution_count": 29,
   "metadata": {},
   "outputs": [],
   "source": [
    "from sklearn.datasets import load_breast_cancer\n",
    "from sklearn.model_selection import train_test_split, GridSearchCV\n",
    "from sklearn.tree import DecisionTreeClassifier\n",
    "from sklearn.metrics import confusion_matrix\n",
    "from sklearn.ensemble import RandomForestClassifier, GradientBoostingClassifier"
   ]
  },
  {
   "cell_type": "code",
   "execution_count": 20,
   "metadata": {},
   "outputs": [
    {
     "name": "stdout",
     "output_type": "stream",
     "text": [
      "Tree score train: 1.0\n",
      "Tree score test: 0.9300699300699301\n",
      "Confusion matix train:\n",
      " [[159   0]\n",
      " [  0 267]]\n",
      "Confusion matix test:\n",
      " [[49  4]\n",
      " [ 6 84]]\n"
     ]
    }
   ],
   "source": [
    "cancer = load_breast_cancer()\n",
    "\n",
    "x_train, x_test, y_train, y_test = train_test_split(cancer.data, cancer.target, stratify=cancer.target, random_state=42)\n",
    "\n",
    "tree = DecisionTreeClassifier().fit(x_train, y_train)\n",
    "\n",
    "print(f'Tree score train: {tree.score(x_train, y_train)}')\n",
    "print(f'Tree score test: {tree.score(x_test, y_test)}')\n",
    "\n",
    "print(f'Confusion matix train:\\n {confusion_matrix(y_train, tree.predict(x_train))}')\n",
    "print(f'Confusion matix test:\\n {confusion_matrix(y_test, tree.predict(x_test))}')"
   ]
  },
  {
   "attachments": {},
   "cell_type": "markdown",
   "metadata": {},
   "source": [
    "selv om vi har et tre som sansynligvis er overfitted så ser den ut til å virke ganske godt på test settet, kan vi få det til å virke enda bedre. vi får også 4 false negativs, dette impliserer at 4 personer ville få vite at de ikke hadde kreft selv om de hadde det, noe som er veldig bekymringsverdig"
   ]
  },
  {
   "cell_type": "code",
   "execution_count": 27,
   "metadata": {},
   "outputs": [
    {
     "name": "stdout",
     "output_type": "stream",
     "text": [
      "Random forest score train: 1.0\n",
      "Random forest score test: 0.951048951048951\n",
      "Confusion matix random forest train:\n",
      " [[159   0]\n",
      " [  0 267]]\n",
      "Confusion matix random forest test:\n",
      " [[49  4]\n",
      " [ 3 87]]\n",
      "\n",
      "\n",
      "Gradient boosting score train: 1.0\n",
      "Gradient boosting score test: 0.958041958041958\n",
      "Confusion matix gradient boosting train:\n",
      " [[159   0]\n",
      " [  0 267]]\n",
      "Confusion matix gradient boosting test:\n",
      " [[48  5]\n",
      " [ 1 89]]\n"
     ]
    }
   ],
   "source": [
    "rfc = RandomForestClassifier(n_jobs=-1).fit(x_train, y_train)\n",
    "gbc = GradientBoostingClassifier().fit(x_train, y_train)\n",
    "\n",
    "print(f'Random forest score train: {rfc.score(x_train, y_train)}')\n",
    "print(f'Random forest score test: {rfc.score(x_test, y_test)}')\n",
    "\n",
    "print(f'Confusion matix random forest train:\\n {confusion_matrix(y_train, rfc.predict(x_train))}')\n",
    "print(f'Confusion matix random forest test:\\n {confusion_matrix(y_test, rfc.predict(x_test))}')\n",
    "\n",
    "print(f'\\n')\n",
    "print(f'Gradient boosting score train: {gbc.score(x_train, y_train)}')\n",
    "print(f'Gradient boosting score test: {gbc.score(x_test, y_test)}')\n",
    "\n",
    "print(f'Confusion matix gradient boosting train:\\n {confusion_matrix(y_train, gbc.predict(x_train))}')\n",
    "print(f'Confusion matix gradient boosting test:\\n {confusion_matrix(y_test, gbc.predict(x_test))}')"
   ]
  },
  {
   "attachments": {},
   "cell_type": "markdown",
   "metadata": {},
   "source": [
    "mer presise resultater, men antageligvis lit overfitting, det er også like mange eller flere falske positiver"
   ]
  },
  {
   "cell_type": "code",
   "execution_count": 34,
   "metadata": {},
   "outputs": [
    {
     "name": "stdout",
     "output_type": "stream",
     "text": [
      "RFC train score: 1.0\n",
      "RFC test score: 0.951048951048951\n",
      "RFC best parameter: {'n_estimators': 200}\n",
      "Confusion matix random forest train:\n",
      " [[159   0]\n",
      " [  0 267]]\n",
      "Confusion matix random forest test:\n",
      " [[49  4]\n",
      " [ 3 87]]\n",
      "\n",
      "\n",
      "GBC train score: 1.0\n",
      "GBC test score: 0.958041958041958\n",
      "GBC best parameter: {'n_estimators': 600}\n",
      "Confusion matix gradient boosting train:\n",
      " [[159   0]\n",
      " [  0 267]]\n",
      "Confusion matix gradient boosting test:\n",
      " [[48  5]\n",
      " [ 1 89]]\n"
     ]
    }
   ],
   "source": [
    "parm_grid = {'n_estimators': [200, 400, 600, 800, 1000]}\n",
    "\n",
    "grid_rfc = GridSearchCV(RandomForestClassifier(), parm_grid, n_jobs=-1).fit(x_train, y_train)\n",
    "grid_gbc = GridSearchCV(GradientBoostingClassifier(), parm_grid, n_jobs=-1).fit(x_train, y_train)\n",
    "\n",
    "print(f'RFC train score: {grid_rfc.score(x_train, y_train)}')\n",
    "print(f'RFC test score: {grid_rfc.score(x_test, y_test)}')\n",
    "print(f'RFC best parameter: {grid_rfc.best_params_}')\n",
    "\n",
    "print(f'Confusion matix random forest train:\\n {confusion_matrix(y_train, grid_rfc.predict(x_train))}')\n",
    "print(f'Confusion matix random forest test:\\n {confusion_matrix(y_test, grid_rfc.predict(x_test))}')\n",
    "\n",
    "print(f'\\n')\n",
    "print(f'GBC train score: {grid_gbc.score(x_train, y_train)}')\n",
    "print(f'GBC test score: {grid_gbc.score(x_test, y_test)}')\n",
    "print(f'GBC best parameter: {grid_gbc.best_params_}')\n",
    "\n",
    "print(f'Confusion matix gradient boosting train:\\n {confusion_matrix(y_train, grid_gbc.predict(x_train))}')\n",
    "print(f'Confusion matix gradient boosting test:\\n {confusion_matrix(y_test, grid_gbc.predict(x_test))}')\n"
   ]
  },
  {
   "attachments": {},
   "cell_type": "markdown",
   "metadata": {},
   "source": [
    "found the best number of estimators range for both gbc and rfc, but i'm stil getting some false positives"
   ]
  },
  {
   "cell_type": "markdown",
   "metadata": {},
   "source": []
  }
 ],
 "metadata": {
  "kernelspec": {
   "display_name": "Python 3",
   "language": "python",
   "name": "python3"
  },
  "language_info": {
   "codemirror_mode": {
    "name": "ipython",
    "version": 3
   },
   "file_extension": ".py",
   "mimetype": "text/x-python",
   "name": "python",
   "nbconvert_exporter": "python",
   "pygments_lexer": "ipython3",
   "version": "3.10.6"
  },
  "orig_nbformat": 4,
  "vscode": {
   "interpreter": {
    "hash": "e7370f93d1d0cde622a1f8e1c04877d8463912d04d973331ad4851f04de6915a"
   }
  }
 },
 "nbformat": 4,
 "nbformat_minor": 2
}
