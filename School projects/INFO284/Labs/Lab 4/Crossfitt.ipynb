{
 "cells": [
  {
   "cell_type": "code",
   "execution_count": 4,
   "metadata": {},
   "outputs": [],
   "source": [
    "from sklearn.datasets import fetch_california_housing\n",
    "# i use _california_housing since newest versions \n",
    "# of sklearn do not allow you to use the boston dataset\n",
    "from sklearn.linear_model import LinearRegression\n",
    "from sklearn.model_selection import train_test_split\n",
    "\n",
    "cal_data, cal_target = fetch_california_housing(return_X_y=True)\n",
    "\n",
    "data_train, data_test, target_train, target_test = train_test_split(cal_data, cal_target)\n",
    "\n",
    "linreg = LinearRegression()"
   ]
  },
  {
   "cell_type": "code",
   "execution_count": 5,
   "metadata": {},
   "outputs": [
    {
     "name": "stdout",
     "output_type": "stream",
     "text": [
      "R² train score linreg: 0.6080084087016805\n",
      "R² test score linreg: 0.5998769181903001\n"
     ]
    }
   ],
   "source": [
    "linreg.fit(data_train, target_train)\n",
    "print(f'R² train score linreg: {linreg.score(data_train, target_train)}')\n",
    "print(f'R² test score linreg: {linreg.score(data_test, target_test)}')\n",
    "\n",
    "# no sign of overfitting"
   ]
  },
  {
   "cell_type": "code",
   "execution_count": 6,
   "metadata": {},
   "outputs": [
    {
     "name": "stdout",
     "output_type": "stream",
     "text": [
      "R² score Ridge lasso train with alpha 1: 0.6080083737062955\n",
      "R² score Ridge lasso test with alpha 1: 0.5998599571363408\n",
      "\n",
      "\n",
      "R² score Ridge lasso train with alpha 2: 0.6080082692116916\n",
      "R² score Ridge lasso test with alpha 2: 0.5998430059244478\n",
      "\n",
      "\n",
      "R² score Ridge lasso train with alpha 3: 0.6080080959486998\n",
      "R² score Ridge lasso test with alpha 3: 0.5998260647432547\n",
      "\n",
      "\n",
      "R² score Ridge lasso train with alpha 4: 0.6080078546395816\n",
      "R² score Ridge lasso test with alpha 4: 0.5998091337776933\n",
      "\n",
      "\n",
      "R² score Ridge lasso train with alpha 5: 0.6080075459981424\n",
      "R² score Ridge lasso test with alpha 5: 0.5997922132090523\n",
      "\n",
      "\n",
      "R² score Ridge lasso train with alpha 6: 0.6080071707298428\n",
      "R² score Ridge lasso test with alpha 6: 0.5997753032150357\n",
      "\n",
      "\n",
      "R² score Ridge lasso train with alpha 7: 0.6080067295319076\n",
      "R² score Ridge lasso test with alpha 7: 0.5997584039698196\n",
      "\n",
      "\n",
      "R² score Ridge lasso train with alpha 8: 0.6080062230934349\n",
      "R² score Ridge lasso test with alpha 8: 0.5997415156441095\n",
      "\n",
      "\n",
      "R² score Ridge lasso train with alpha 9: 0.608005652095502\n",
      "R² score Ridge lasso test with alpha 9: 0.5997246384051949\n",
      "\n",
      "\n"
     ]
    }
   ],
   "source": [
    "from sklearn.linear_model import Ridge\n",
    "\n",
    "for alpha in range(1,10):\n",
    "    ridge = Ridge(alpha=alpha)\n",
    "    ridge.fit(data_train, target_train)\n",
    "\n",
    "    print(f'R² score Ridge lasso train with alpha {alpha}: {ridge.score(data_train, target_train)}')\n",
    "    print(f'R² score Ridge lasso test with alpha {alpha}: {ridge.score(data_test, target_test)}')\n",
    "    print('\\n')\n",
    "\n",
    "# 1 is the optimal alpha, none of them are overfitting"
   ]
  },
  {
   "cell_type": "code",
   "execution_count": 7,
   "metadata": {},
   "outputs": [
    {
     "name": "stdout",
     "output_type": "stream",
     "text": [
      "Score: 1, \n",
      "Alpha cross validation scores: [0.54878594 0.46817341 0.55078466 0.53693584 0.66053068],        \n",
      "Average R² score: 0.5530421056931839\n",
      "Score: 2, \n",
      "Alpha cross validation scores: [0.54890772 0.46813998 0.55078491 0.53688474 0.66054715],        \n",
      "Average R² score: 0.5530528972869166\n",
      "Score: 3, \n",
      "Alpha cross validation scores: [0.54902857 0.46810662 0.55078509 0.53683372 0.66056346],        \n",
      "Average R² score: 0.553063490967508\n",
      "Score: 4, \n",
      "Alpha cross validation scores: [0.54914851 0.46807332 0.55078521 0.53678278 0.66057962],        \n",
      "Average R² score: 0.5530738888665226\n",
      "Score: 5, \n",
      "Alpha cross validation scores: [0.54926754 0.4680401  0.55078527 0.53673193 0.66059563],        \n",
      "Average R² score: 0.553084093089087\n",
      "Score: 6, \n",
      "Alpha cross validation scores: [0.54938567 0.46800694 0.55078527 0.53668116 0.66061149],        \n",
      "Average R² score: 0.5530941057142672\n",
      "Score: 7, \n",
      "Alpha cross validation scores: [0.54950291 0.46797386 0.5507852  0.53663047 0.6606272 ],        \n",
      "Average R² score: 0.5531039287954398\n",
      "Score: 8, \n",
      "Alpha cross validation scores: [0.54961927 0.46794084 0.55078508 0.53657987 0.66064277],        \n",
      "Average R² score: 0.5531135643606591\n",
      "Score: 9, \n",
      "Alpha cross validation scores: [0.54973476 0.46790789 0.55078489 0.53652935 0.66065819],        \n",
      "Average R² score: 0.5531230144130128\n",
      "Score: 10, \n",
      "Alpha cross validation scores: [0.54984938 0.467875   0.55078465 0.53647891 0.66067346],        \n",
      "Average R² score: 0.5531322809309802\n",
      "Score: 11, \n",
      "Alpha cross validation scores: [0.54996315 0.46784219 0.55078435 0.53642855 0.66068859],        \n",
      "Average R² score: 0.553141365868777\n",
      "Score: 12, \n",
      "Alpha cross validation scores: [0.55007608 0.46780944 0.55078399 0.53637827 0.66070358],        \n",
      "Average R² score: 0.5531502711567005\n",
      "Score: 13, \n",
      "Alpha cross validation scores: [0.55018816 0.46777676 0.55078357 0.53632808 0.66071843],        \n",
      "Average R² score: 0.5531589987014623\n",
      "Score: 14, \n",
      "Alpha cross validation scores: [0.55029941 0.46774415 0.55078309 0.53627797 0.66073313],        \n",
      "Average R² score: 0.5531675503865222\n",
      "Score: 15, \n",
      "Alpha cross validation scores: [0.55040984 0.46771161 0.55078257 0.53622793 0.6607477 ],        \n",
      "Average R² score: 0.5531759280724146\n",
      "Score: 16, \n",
      "Alpha cross validation scores: [0.55051945 0.46767913 0.55078198 0.53617798 0.66076212],        \n",
      "Average R² score: 0.5531841335970693\n",
      "Score: 17, \n",
      "Alpha cross validation scores: [0.55062826 0.46764672 0.55078134 0.53612811 0.66077641],        \n",
      "Average R² score: 0.5531921687761269\n",
      "Score: 18, \n",
      "Alpha cross validation scores: [0.55073626 0.46761438 0.55078065 0.53607833 0.66079057],        \n",
      "Average R² score: 0.5532000354032488\n",
      "Score: 19, \n",
      "Alpha cross validation scores: [0.55084348 0.4675821  0.5507799  0.53602862 0.66080458],        \n",
      "Average R² score: 0.5532077352504222\n"
     ]
    }
   ],
   "source": [
    "from sklearn.model_selection import cross_val_score\n",
    "\n",
    "alpha_cross_scores = {}\n",
    "\n",
    "for alpha in range(1,20):\n",
    "    ridge = Ridge(alpha=alpha)\n",
    "    alpha_cross_scores[alpha] = cross_val_score(ridge, cal_data, cal_target)\n",
    "\n",
    "for score in alpha_cross_scores:\n",
    "    print(f'Score: {score}, \\nAlpha cross validation scores: {alpha_cross_scores[score]},\\\n",
    "        \\nAverage R² score: {sum(alpha_cross_scores[score])/len(alpha_cross_scores[score])}')\n",
    "\n",
    "# the score increases as i increase the number\n"
   ]
  },
  {
   "cell_type": "code",
   "execution_count": 17,
   "metadata": {},
   "outputs": [
    {
     "name": "stdout",
     "output_type": "stream",
     "text": [
      "maximum score: 0.5534208733523284,\n",
      "alpha of said score:81\n"
     ]
    }
   ],
   "source": [
    "from sklearn.model_selection import cross_val_score\n",
    "\n",
    "alpha_cross_scores = {}\n",
    "\n",
    "for alpha in range(1,100):\n",
    "    ridge = Ridge(alpha=alpha)\n",
    "    alpha_cross_scores[alpha] = cross_val_score(ridge, cal_data, cal_target)\n",
    "\n",
    "score_avrg = {}\n",
    "for alpha in alpha_cross_scores:\n",
    "    cross_scores = alpha_cross_scores[alpha]\n",
    "    avrg = sum(cross_scores)/len(cross_scores)\n",
    "\n",
    "    score_avrg[avrg] = alpha\n",
    "    \n",
    "maximum_score = score_avrg[max(score_avrg)]\n",
    "\n",
    "print(f'maximum score: {max(score_avrg)},') \n",
    "print(f'alpha of said score: {maximum_score}')\n",
    "\n",
    "# optimal whole number alpha is 81, and therefore my prefered alpha\n"
   ]
  }
 ],
 "metadata": {
  "kernelspec": {
   "display_name": "Python 3",
   "language": "python",
   "name": "python3"
  },
  "language_info": {
   "codemirror_mode": {
    "name": "ipython",
    "version": 3
   },
   "file_extension": ".py",
   "mimetype": "text/x-python",
   "name": "python",
   "nbconvert_exporter": "python",
   "pygments_lexer": "ipython3",
   "version": "3.10.6"
  },
  "orig_nbformat": 4,
  "vscode": {
   "interpreter": {
    "hash": "767d51c1340bd893661ea55ea3124f6de3c7a262a8b4abca0554b478b1e2ff90"
   }
  }
 },
 "nbformat": 4,
 "nbformat_minor": 2
}
