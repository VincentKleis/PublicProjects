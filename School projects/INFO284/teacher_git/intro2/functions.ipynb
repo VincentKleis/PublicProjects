{
 "cells": [
  {
   "cell_type": "code",
   "execution_count": 16,
   "metadata": {},
   "outputs": [],
   "source": [
    "##Last time we covered Lists and Dictionaries\n",
    "##Today we'll look at functions before the break, and then a machine learning dataset after the break"
   ]
  },
  {
   "cell_type": "code",
   "execution_count": 17,
   "metadata": {},
   "outputs": [
    {
     "name": "stdout",
     "output_type": "stream",
     "text": [
      "Hello from a function\n"
     ]
    }
   ],
   "source": [
    "#A function is created with the def keywork\n",
    "#This is a function with no parameters\n",
    "#This is a function that does not return anything\n",
    "def my_function():\n",
    "    print(\"Hello Paal\")\n",
    "    \n",
    "my_function()"
   ]
  },
  {
   "cell_type": "code",
   "execution_count": 20,
   "metadata": {},
   "outputs": [
    {
     "name": "stdout",
     "output_type": "stream",
     "text": [
      "Hello Paal\n",
      "Hello Per\n",
      "Hello Espen askeladd\n"
     ]
    }
   ],
   "source": [
    "#We can pass arguments into a function\n",
    "#You must call a function with the same number of arguments as\n",
    "#There is parameters\n",
    "def greeter(fname):\n",
    "    print(f\"Hello {fname}\")\n",
    "    \n",
    "greeter(\"Paal\")\n",
    "greeter(\"Per\")\n",
    "greeter(\"Espen askeladd\")"
   ]
  },
  {
   "cell_type": "code",
   "execution_count": 21,
   "metadata": {},
   "outputs": [
    {
     "ename": "TypeError",
     "evalue": "greeter() takes 1 positional argument but 2 were given",
     "output_type": "error",
     "traceback": [
      "\u001b[1;31m---------------------------------------------------------------------------\u001b[0m",
      "\u001b[1;31mTypeError\u001b[0m                                 Traceback (most recent call last)",
      "\u001b[1;32m<ipython-input-21-dd1793002eaf>\u001b[0m in \u001b[0;36m<module>\u001b[1;34m\u001b[0m\n\u001b[0;32m      1\u001b[0m \u001b[1;31m##This will not work\u001b[0m\u001b[1;33m\u001b[0m\u001b[1;33m\u001b[0m\u001b[1;33m\u001b[0m\u001b[0m\n\u001b[1;32m----> 2\u001b[1;33m \u001b[0mgreeter\u001b[0m\u001b[1;33m(\u001b[0m\u001b[1;34m\"paal\"\u001b[0m\u001b[1;33m,\u001b[0m \u001b[1;34m\"per\"\u001b[0m\u001b[1;33m)\u001b[0m\u001b[1;33m\u001b[0m\u001b[1;33m\u001b[0m\u001b[0m\n\u001b[0m",
      "\u001b[1;31mTypeError\u001b[0m: greeter() takes 1 positional argument but 2 were given"
     ]
    }
   ],
   "source": [
    "##This will not work\n",
    "greeter(\"paal\", \"per\")"
   ]
  },
  {
   "cell_type": "code",
   "execution_count": 28,
   "metadata": {},
   "outputs": [
    {
     "name": "stdout",
     "output_type": "stream",
     "text": [
      "Hello paal\n"
     ]
    }
   ],
   "source": [
    "#If you do not know the number of arguments, you can use Arbitrary\n",
    "#Arguments. That way, the function will receive a tuple of arguments\n",
    "def greeter2(*fname):\n",
    "    print(f\"Hello {fname[0]}\")\n",
    "    \n",
    "greeter2(\"paal\", \"per\")"
   ]
  },
  {
   "cell_type": "code",
   "execution_count": 37,
   "metadata": {},
   "outputs": [],
   "source": [
    "##You can loop through the tuple\n",
    "#Don't need a try catch\n",
    "def greeter3(*fname):\n",
    "    #print(fname) #prints a tuple\n",
    "    for element in fname:\n",
    "        print(f\"Hello  {element}\")"
   ]
  },
  {
   "cell_type": "code",
   "execution_count": 39,
   "metadata": {},
   "outputs": [
    {
     "name": "stdout",
     "output_type": "stream",
     "text": [
      "Hello  paal\n"
     ]
    }
   ],
   "source": [
    "greeter3(\"paal\")"
   ]
  },
  {
   "cell_type": "code",
   "execution_count": 53,
   "metadata": {},
   "outputs": [
    {
     "name": "stdout",
     "output_type": "stream",
     "text": [
      "<class 'dict'>\n",
      "{'fname': 'Paal', 'lname': 'kobb'}\n",
      "dict_keys(['fname', 'lname'])\n",
      "fname\n",
      "Paal\n",
      "lname\n",
      "kobb\n"
     ]
    }
   ],
   "source": [
    "##Arbitrary keyword arguments\n",
    "##If you write ** before the argument, the function\n",
    "##Will receive a dictionary\n",
    "def greeter4(**fname):\n",
    "    print(type(fname))\n",
    "    print(fname)\n",
    "    print(fname.keys())\n",
    "    for k,v in fname.items():\n",
    "        print(k)\n",
    "        print(v)\n",
    "        \n",
    "greeter4(fname=\"Paal\",lname=\"kobb\")"
   ]
  },
  {
   "cell_type": "code",
   "execution_count": 54,
   "metadata": {},
   "outputs": [
    {
     "name": "stdout",
     "output_type": "stream",
     "text": [
      "I am from Europe\n",
      "I am from America\n",
      "I am from India\n",
      "I am from the world\n"
     ]
    }
   ],
   "source": [
    "##Default parameter value\n",
    "def origin(country=\"the world\"):\n",
    "    print(f\"I am from {country}\")\n",
    "    \n",
    "origin(\"Europe\")\n",
    "origin(\"America\")\n",
    "origin(\"India\")\n",
    "origin()"
   ]
  },
  {
   "cell_type": "code",
   "execution_count": 69,
   "metadata": {},
   "outputs": [],
   "source": [
    "###We can send in any datatype we want\n",
    "def shoppingList(shoppinglist):\n",
    "    print(shoppinglist)\n",
    "    for item in range(0,len(shoppinglist)):\n",
    "        print(f\"Item number {item} in the list is {shoppinglist[item]}\")"
   ]
  },
  {
   "cell_type": "code",
   "execution_count": 73,
   "metadata": {},
   "outputs": [
    {
     "name": "stdout",
     "output_type": "stream",
     "text": [
      "['eple', 'appelsin', 'brød']\n",
      "Item number 0 in the list is eple\n",
      "Item number 1 in the list is appelsin\n",
      "Item number 2 in the list is brød\n"
     ]
    }
   ],
   "source": [
    "shoppingList([\"eple\",\"appelsin\", \"brød\"])"
   ]
  },
  {
   "cell_type": "code",
   "execution_count": 75,
   "metadata": {},
   "outputs": [
    {
     "name": "stdout",
     "output_type": "stream",
     "text": [
      "a\n",
      "Item number 0 in the list is a\n",
      "abbabba\n",
      "Item number 0 in the list is a\n",
      "Item number 1 in the list is b\n",
      "Item number 2 in the list is b\n",
      "Item number 3 in the list is a\n",
      "Item number 4 in the list is b\n",
      "Item number 5 in the list is b\n",
      "Item number 6 in the list is a\n",
      "1\n"
     ]
    },
    {
     "ename": "TypeError",
     "evalue": "object of type 'int' has no len()",
     "output_type": "error",
     "traceback": [
      "\u001b[1;31m---------------------------------------------------------------------------\u001b[0m",
      "\u001b[1;31mTypeError\u001b[0m                                 Traceback (most recent call last)",
      "\u001b[1;32m<ipython-input-75-4cd929ad7b75>\u001b[0m in \u001b[0;36m<module>\u001b[1;34m\u001b[0m\n\u001b[0;32m      2\u001b[0m \u001b[0mshoppingList\u001b[0m\u001b[1;33m(\u001b[0m\u001b[1;34m\"a\"\u001b[0m\u001b[1;33m)\u001b[0m\u001b[1;33m\u001b[0m\u001b[1;33m\u001b[0m\u001b[0m\n\u001b[0;32m      3\u001b[0m \u001b[0mshoppingList\u001b[0m\u001b[1;33m(\u001b[0m\u001b[1;34m\"abbabba\"\u001b[0m\u001b[1;33m)\u001b[0m\u001b[1;33m\u001b[0m\u001b[1;33m\u001b[0m\u001b[0m\n\u001b[1;32m----> 4\u001b[1;33m \u001b[0mshoppingList\u001b[0m\u001b[1;33m(\u001b[0m\u001b[1;36m1\u001b[0m\u001b[1;33m)\u001b[0m\u001b[1;33m\u001b[0m\u001b[1;33m\u001b[0m\u001b[0m\n\u001b[0m",
      "\u001b[1;32m<ipython-input-69-0b45bcb2f026>\u001b[0m in \u001b[0;36mshoppingList\u001b[1;34m(shoppinglist)\u001b[0m\n\u001b[0;32m      2\u001b[0m \u001b[1;32mdef\u001b[0m \u001b[0mshoppingList\u001b[0m\u001b[1;33m(\u001b[0m\u001b[0mshoppinglist\u001b[0m\u001b[1;33m)\u001b[0m\u001b[1;33m:\u001b[0m\u001b[1;33m\u001b[0m\u001b[1;33m\u001b[0m\u001b[0m\n\u001b[0;32m      3\u001b[0m     \u001b[0mprint\u001b[0m\u001b[1;33m(\u001b[0m\u001b[0mshoppinglist\u001b[0m\u001b[1;33m)\u001b[0m\u001b[1;33m\u001b[0m\u001b[1;33m\u001b[0m\u001b[0m\n\u001b[1;32m----> 4\u001b[1;33m     \u001b[1;32mfor\u001b[0m \u001b[0mitem\u001b[0m \u001b[1;32min\u001b[0m \u001b[0mrange\u001b[0m\u001b[1;33m(\u001b[0m\u001b[1;36m0\u001b[0m\u001b[1;33m,\u001b[0m\u001b[0mlen\u001b[0m\u001b[1;33m(\u001b[0m\u001b[0mshoppinglist\u001b[0m\u001b[1;33m)\u001b[0m\u001b[1;33m)\u001b[0m\u001b[1;33m:\u001b[0m\u001b[1;33m\u001b[0m\u001b[1;33m\u001b[0m\u001b[0m\n\u001b[0m\u001b[0;32m      5\u001b[0m         \u001b[0mprint\u001b[0m\u001b[1;33m(\u001b[0m\u001b[1;34mf\"Item number {item} in the list is {shoppinglist[item]}\"\u001b[0m\u001b[1;33m)\u001b[0m\u001b[1;33m\u001b[0m\u001b[1;33m\u001b[0m\u001b[0m\n",
      "\u001b[1;31mTypeError\u001b[0m: object of type 'int' has no len()"
     ]
    }
   ],
   "source": [
    "##However, if someone sends in something else than a list\n",
    "##The integer throws an error\n",
    "shoppingList(\"a\")\n",
    "shoppingList(\"abbabba\")\n",
    "shoppingList(1)"
   ]
  },
  {
   "cell_type": "code",
   "execution_count": 82,
   "metadata": {},
   "outputs": [],
   "source": [
    "##We can fix this in two ways\n",
    "##The first option\n",
    "def shoppingList(shoppinglist):\n",
    "    try:\n",
    "        print(type(shoppinglist))\n",
    "        for item in range(0,len(shoppinglist)):\n",
    "            print(f\"Item number {item} in the list is {shoppinglist[item]}\")\n",
    "    except:\n",
    "        print(f\"The item '{shoppinglist}' is not a list element\")"
   ]
  },
  {
   "cell_type": "code",
   "execution_count": 81,
   "metadata": {},
   "outputs": [
    {
     "name": "stdout",
     "output_type": "stream",
     "text": [
      "<class 'int'>\n",
      "The item '1' is not a list element\n"
     ]
    }
   ],
   "source": [
    "shoppingList(1)"
   ]
  },
  {
   "cell_type": "code",
   "execution_count": 105,
   "metadata": {},
   "outputs": [],
   "source": [
    "##The second option\n",
    "##Uses recusion\n",
    "##Show another example of recusion\n",
    "def shoppingList(*shoppinglist):\n",
    "    if shoppinglist == list(shoppinglist) or shoppinglist == tuple(shoppinglist):\n",
    "        for item in range(0,len(shoppinglist)):\n",
    "            print(f\"Item number {item} in the list is {shoppinglist[item]}\")\n",
    "    else:\n",
    "        shoppingList(list(shoppinglist))\n",
    "        "
   ]
  },
  {
   "cell_type": "code",
   "execution_count": 106,
   "metadata": {},
   "outputs": [
    {
     "name": "stdout",
     "output_type": "stream",
     "text": [
      "Item number 0 in the list is a\n",
      "Item number 1 in the list is b\n"
     ]
    }
   ],
   "source": [
    "shoppingList(\"a\",\"b\")"
   ]
  },
  {
   "cell_type": "code",
   "execution_count": 107,
   "metadata": {},
   "outputs": [],
   "source": [
    "##Recusion\n",
    "def countdown(number):\n",
    "    if number <= 0:\n",
    "        number = 0\n",
    "        print(f\"FINISHED: {number}\")\n",
    "    else:\n",
    "        print(f\"counting: {number}\")\n",
    "        number -= 1\n",
    "        countdown(number)"
   ]
  },
  {
   "cell_type": "code",
   "execution_count": 110,
   "metadata": {},
   "outputs": [
    {
     "name": "stdout",
     "output_type": "stream",
     "text": [
      "counting: 10\n",
      "counting: 9\n",
      "counting: 8\n",
      "counting: 7\n",
      "counting: 6\n",
      "counting: 5\n",
      "counting: 4\n",
      "counting: 3\n",
      "counting: 2\n",
      "counting: 1\n",
      "FINISHED: 0\n"
     ]
    }
   ],
   "source": [
    "countdown(10)"
   ]
  },
  {
   "cell_type": "code",
   "execution_count": 116,
   "metadata": {},
   "outputs": [
    {
     "name": "stdout",
     "output_type": "stream",
     "text": [
      "8\n"
     ]
    }
   ],
   "source": [
    "###The return statement\n",
    "def multiplyByTwo(number):\n",
    "    return number * 2\n",
    "\n",
    "print(multiplyByTwo(4))"
   ]
  },
  {
   "cell_type": "code",
   "execution_count": 117,
   "metadata": {},
   "outputs": [],
   "source": [
    "tall = multiplyByTwo(4)"
   ]
  },
  {
   "cell_type": "code",
   "execution_count": 118,
   "metadata": {},
   "outputs": [
    {
     "name": "stdout",
     "output_type": "stream",
     "text": [
      "8\n"
     ]
    }
   ],
   "source": [
    "print(tall)"
   ]
  },
  {
   "cell_type": "code",
   "execution_count": 119,
   "metadata": {},
   "outputs": [],
   "source": [
    "tall = multiplyByTwo(tall)"
   ]
  },
  {
   "cell_type": "code",
   "execution_count": 120,
   "metadata": {},
   "outputs": [
    {
     "name": "stdout",
     "output_type": "stream",
     "text": [
      "16\n"
     ]
    }
   ],
   "source": [
    "print(tall)"
   ]
  },
  {
   "cell_type": "code",
   "execution_count": 122,
   "metadata": {},
   "outputs": [
    {
     "name": "stdout",
     "output_type": "stream",
     "text": [
      "15\n"
     ]
    }
   ],
   "source": [
    "##Lambda funciton\n",
    "# A small anonomous function\n",
    "##Can only have one expression\n",
    "##Syntax:\n",
    "##lambda arguments : expression\n",
    "\n",
    "x = lambda a : a + 10\n",
    "print(x(5))"
   ]
  },
  {
   "cell_type": "code",
   "execution_count": 123,
   "metadata": {},
   "outputs": [
    {
     "name": "stdout",
     "output_type": "stream",
     "text": [
      "15\n"
     ]
    }
   ],
   "source": [
    "##This is the equivalent to\n",
    "def x(a):\n",
    "    return a + 10\n",
    "\n",
    "print(x(5))"
   ]
  },
  {
   "cell_type": "code",
   "execution_count": 124,
   "metadata": {},
   "outputs": [
    {
     "name": "stdout",
     "output_type": "stream",
     "text": [
      "20\n"
     ]
    }
   ],
   "source": [
    "##Multiple arguments\n",
    "x = lambda a,b : a*b\n",
    "print(x(4,5))"
   ]
  },
  {
   "cell_type": "code",
   "execution_count": 126,
   "metadata": {},
   "outputs": [
    {
     "name": "stdout",
     "output_type": "stream",
     "text": [
      "22\n"
     ]
    }
   ],
   "source": [
    "### A lambda function within a function\n",
    "def my_func(n):\n",
    "    return lambda a:a*n\n",
    "\n",
    "x = my_func(2)\n",
    "y = x(11)\n",
    "print(y)"
   ]
  },
  {
   "cell_type": "code",
   "execution_count": null,
   "metadata": {},
   "outputs": [],
   "source": []
  }
 ],
 "metadata": {
  "kernelspec": {
   "display_name": "Python 3",
   "language": "python",
   "name": "python3"
  },
  "language_info": {
   "codemirror_mode": {
    "name": "ipython",
    "version": 3
   },
   "file_extension": ".py",
   "mimetype": "text/x-python",
   "name": "python",
   "nbconvert_exporter": "python",
   "pygments_lexer": "ipython3",
   "version": "3.7.1"
  }
 },
 "nbformat": 4,
 "nbformat_minor": 2
}
