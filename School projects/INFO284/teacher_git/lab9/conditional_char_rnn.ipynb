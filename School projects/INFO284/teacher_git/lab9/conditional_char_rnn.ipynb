{
  "nbformat": 4,
  "nbformat_minor": 0,
  "metadata": {
    "anaconda-cloud": {},
    "kernelspec": {
      "name": "python3",
      "display_name": "Python 3"
    },
    "nbpresent": {
      "slides": {
        "10393c05-7962-4245-9228-8b7db4eb79a1": {
          "id": "10393c05-7962-4245-9228-8b7db4eb79a1",
          "prev": "22628fc4-8309-4579-ba36-e5b01a841473",
          "regions": {
            "335fd672-4ee6-4b7c-a65f-3ecbf38305e1": {
              "attrs": {
                "height": 0.8,
                "width": 0.8,
                "x": 0.1,
                "y": 0.1
              },
              "content": {
                "cell": "cc294dae-dd8f-4288-8d3c-bb9fd3ad19bc",
                "part": "whole"
              },
              "id": "335fd672-4ee6-4b7c-a65f-3ecbf38305e1"
            }
          }
        },
        "22628fc4-8309-4579-ba36-e5b01a841473": {
          "id": "22628fc4-8309-4579-ba36-e5b01a841473",
          "prev": null,
          "regions": {
            "6cfa5157-02f6-48e3-8ce4-89641febbe59": {
              "attrs": {
                "height": 0.8,
                "width": 0.8,
                "x": 0.1,
                "y": 0.1
              },
              "content": {
                "cell": "9a73330c-27c1-4957-8e95-c3b42bc14a71",
                "part": "whole"
              },
              "id": "6cfa5157-02f6-48e3-8ce4-89641febbe59"
            }
          }
        },
        "2f34f0df-3ccc-4416-9d5d-cb4b075f539f": {
          "id": "2f34f0df-3ccc-4416-9d5d-cb4b075f539f",
          "prev": "3eb7f63f-04de-4f51-a240-38d5074bed6f",
          "regions": {
            "e25707b9-630e-4ece-9f66-bfcbc8342d76": {
              "attrs": {
                "height": 0.8,
                "width": 0.8,
                "x": 0.1,
                "y": 0.1
              },
              "content": {
                "cell": "df50f546-6d02-4383-beab-90378f16576b",
                "part": "whole"
              },
              "id": "e25707b9-630e-4ece-9f66-bfcbc8342d76"
            }
          }
        },
        "3eb7f63f-04de-4f51-a240-38d5074bed6f": {
          "id": "3eb7f63f-04de-4f51-a240-38d5074bed6f",
          "prev": "cc4bd43a-59ec-4127-b1d8-ebd30162207a",
          "regions": {
            "76282c28-a6ba-4a08-be6c-4f27f5b81ddf": {
              "attrs": {
                "height": 0.8,
                "width": 0.8,
                "x": 0.1,
                "y": 0.1
              },
              "content": {
                "cell": "53fb987f-4f42-4bf8-81ae-280ebdd19aee",
                "part": "whole"
              },
              "id": "76282c28-a6ba-4a08-be6c-4f27f5b81ddf"
            }
          }
        },
        "686bcaec-0623-4943-b227-f4e1c5975c4a": {
          "id": "686bcaec-0623-4943-b227-f4e1c5975c4a",
          "prev": "e4c6fc30-f833-4368-99fe-5297b99f1f14",
          "regions": {
            "659c021e-7f79-4612-aa7d-8f1c48f91f8b": {
              "attrs": {
                "height": 0.8,
                "width": 0.8,
                "x": 0.1,
                "y": 0.1
              },
              "content": {
                "cell": "4ff5f52a-2523-47f0-beba-f6c29d412e5f",
                "part": "whole"
              },
              "id": "659c021e-7f79-4612-aa7d-8f1c48f91f8b"
            }
          }
        },
        "964ac1b6-c781-47e8-89f0-1f593d473cd0": {
          "id": "964ac1b6-c781-47e8-89f0-1f593d473cd0",
          "prev": "cf8a3b4c-bbb5-4ef3-a8c6-43a1ad7eebc8",
          "regions": {
            "d22afc7e-4bbe-401e-9bd2-d12c4a103cf5": {
              "attrs": {
                "height": 0.8,
                "width": 0.8,
                "x": 0.1,
                "y": 0.1
              },
              "content": {
                "cell": "8ff6da45-57cd-46ca-b14a-3f560ce4d345",
                "part": "whole"
              },
              "id": "d22afc7e-4bbe-401e-9bd2-d12c4a103cf5"
            }
          }
        },
        "cc4bd43a-59ec-4127-b1d8-ebd30162207a": {
          "id": "cc4bd43a-59ec-4127-b1d8-ebd30162207a",
          "prev": "964ac1b6-c781-47e8-89f0-1f593d473cd0",
          "regions": {
            "1e6711af-7711-4579-ac7a-f893b0d86931": {
              "attrs": {
                "height": 0.8,
                "width": 0.8,
                "x": 0.1,
                "y": 0.1
              },
              "content": {
                "cell": "cf311809-10bf-40f7-87e1-1952342f7f35",
                "part": "whole"
              },
              "id": "1e6711af-7711-4579-ac7a-f893b0d86931"
            }
          }
        },
        "cf8a3b4c-bbb5-4ef3-a8c6-43a1ad7eebc8": {
          "id": "cf8a3b4c-bbb5-4ef3-a8c6-43a1ad7eebc8",
          "prev": "686bcaec-0623-4943-b227-f4e1c5975c4a",
          "regions": {
            "3b983e72-35fb-4d19-83b4-789a3394f61f": {
              "attrs": {
                "height": 0.8,
                "width": 0.8,
                "x": 0.1,
                "y": 0.1
              },
              "content": {
                "cell": "597a765d-634b-41a8-a0c6-be5c019da150",
                "part": "whole"
              },
              "id": "3b983e72-35fb-4d19-83b4-789a3394f61f"
            }
          }
        },
        "e4c6fc30-f833-4368-99fe-5297b99f1f14": {
          "id": "e4c6fc30-f833-4368-99fe-5297b99f1f14",
          "prev": "10393c05-7962-4245-9228-8b7db4eb79a1",
          "regions": {
            "98a6b3b6-d2db-4d8a-bb16-a4307ede4803": {
              "attrs": {
                "height": 0.8,
                "width": 0.8,
                "x": 0.1,
                "y": 0.1
              },
              "content": {
                "cell": "6a9d80df-1d38-4c41-849c-95e38da98cc7",
                "part": "whole"
              },
              "id": "98a6b3b6-d2db-4d8a-bb16-a4307ede4803"
            }
          }
        },
        "f1a487d8-4b0b-47df-988f-1161d66174b2": {
          "id": "f1a487d8-4b0b-47df-988f-1161d66174b2",
          "prev": "2f34f0df-3ccc-4416-9d5d-cb4b075f539f",
          "regions": {
            "2c817a32-203d-404b-8bf5-ba17f7d27034": {
              "attrs": {
                "height": 0.8,
                "width": 0.8,
                "x": 0.1,
                "y": 0.1
              },
              "content": {
                "cell": "81fde336-785e-461b-a751-718a5f6bff88",
                "part": "whole"
              },
              "id": "2c817a32-203d-404b-8bf5-ba17f7d27034"
            }
          }
        }
      },
      "themes": {}
    },
    "colab": {
      "name": "conditional-char-rnn.ipynb",
      "provenance": [],
      "private_outputs": true,
      "collapsed_sections": []
    },
    "accelerator": "GPU"
  },
  "cells": [
    {
      "cell_type": "markdown",
      "metadata": {
        "nbpresent": {
          "id": "9a73330c-27c1-4957-8e95-c3b42bc14a71"
        },
        "id": "3iG6aJ065wLC",
        "colab_type": "text"
      },
      "source": [
        "![](https://i.imgur.com/eBRPvWB.png)\n",
        "\n",
        "# Practical PyTorch: Generating Names with a Conditional Character-Level RNN\n",
        "\n",
        "This model will improve upon the RNN we used to [generate Shakespeare one character at a time](https://github.com/spro/practical-pytorch/blob/master/char-rnn-generation/char-rnn-generation.ipynb) by adding another input (representing the language) so we can specify what kind of name to generate. This model will be trained to generate names in multiple languages.\n",
        "\n",
        "Being able to \"prime\" the generator with a specific category brings us a step closer to the [Sequence to Sequence model](https://github.com/spro/practical-pytorch/blob/master/seq2seq-translation/seq2seq-translation.ipynb) used for machine translation."
      ]
    },
    {
      "cell_type": "markdown",
      "metadata": {
        "id": "CT4pwws05wLG",
        "colab_type": "text"
      },
      "source": [
        "# Recommended Reading\n",
        "\n",
        "I assume you have at least installed PyTorch, know Python, and understand Tensors:\n",
        "\n",
        "* http://pytorch.org/ For installation instructions\n",
        "* [Deep Learning with PyTorch: A 60-minute Blitz](https://github.com/pytorch/tutorials/blob/master/Deep%20Learning%20with%20PyTorch.ipynb) to get started with PyTorch in general\n",
        "* [jcjohnson's PyTorch examples](https://github.com/jcjohnson/pytorch-examples) for an in depth overview\n",
        "\n",
        "It would also be useful to know about RNNs and how they work:\n",
        "\n",
        "* [The Unreasonable Effectiveness of Recurrent Neural Networks](http://karpathy.github.io/2015/05/21/rnn-effectiveness/) shows a bunch of real life examples\n",
        "* [Understanding LSTM Networks](http://colah.github.io/posts/2015-08-Understanding-LSTMs/) is about LSTMs specifically but also informative about RNNs in general\n"
      ]
    },
    {
      "cell_type": "markdown",
      "metadata": {
        "nbpresent": {
          "id": "cc294dae-dd8f-4288-8d3c-bb9fd3ad19bc"
        },
        "id": "ERwqgZ_z5wLL",
        "colab_type": "text"
      },
      "source": [
        "# Preparing the Data\n",
        "\n",
        "Upload the data files from `lab9\\data\\names` folder to the root directory of this notebook."
      ]
    },
    {
      "cell_type": "code",
      "metadata": {
        "nbpresent": {
          "id": "6a9d80df-1d38-4c41-849c-95e38da98cc7"
        },
        "id": "qEq7AiM35wLP",
        "colab_type": "code",
        "colab": {}
      },
      "source": [
        "import glob\n",
        "import unicodedata\n",
        "import string\n",
        "\n",
        "all_letters = string.ascii_letters + \" .,;'-\"\n",
        "n_letters = len(all_letters) + 1 # Plus EOS marker\n",
        "EOS = n_letters - 1\n",
        "\n",
        "# Turn a Unicode string to plain ASCII, thanks to http://stackoverflow.com/a/518232/2809427\n",
        "def unicode_to_ascii(s):\n",
        "    return ''.join(\n",
        "        c for c in unicodedata.normalize('NFD', s)\n",
        "        if unicodedata.category(c) != 'Mn'\n",
        "        and c in all_letters\n",
        "    )\n",
        "\n",
        "print(unicode_to_ascii(\"O'Néàl\"))"
      ],
      "execution_count": 0,
      "outputs": []
    },
    {
      "cell_type": "code",
      "metadata": {
        "id": "jhmfdAUe5wLe",
        "colab_type": "code",
        "colab": {}
      },
      "source": [
        "# Read a file and split into lines\n",
        "def read_lines(filename):\n",
        "    lines = open(filename).read().strip().split('\\n')\n",
        "    return [unicode_to_ascii(line) for line in lines]\n",
        "\n",
        "# Build the category_lines dictionary, a list of lines per category\n",
        "category_lines = {}\n",
        "all_categories = []\n",
        "## upload all the files inside lab9/data/names in the root folder\n",
        "for filename in glob.glob('*.txt'):\n",
        "    category = filename.split('/')[-1].split('.')[0]\n",
        "    all_categories.append(category)\n",
        "    lines = read_lines(filename)\n",
        "    category_lines[category] = lines\n",
        "\n",
        "n_categories = len(all_categories)\n",
        "\n",
        "print('# categories:', n_categories, all_categories)"
      ],
      "execution_count": 0,
      "outputs": []
    },
    {
      "cell_type": "markdown",
      "metadata": {
        "nbpresent": {
          "id": "4ff5f52a-2523-47f0-beba-f6c29d412e5f"
        },
        "id": "BljwfP8G5wLm",
        "colab_type": "text"
      },
      "source": [
        "# Creating the Network\n",
        "\n",
        "This network extends [the last tutorial's RNN](#Creating-the-Network) with an extra argument for the category tensor, which is concatenated along with the others. The category tensor is a one-hot vector just like the letter input.\n",
        "\n",
        "We will interpret the output as the probability of the next letter. When sampling, the most likely output letter is used as the next input letter.\n",
        "\n",
        "I added a second linear layer `o2o` (after combining hidden and output) to give it more muscle to work with. There's also a dropout layer, which [randomly zeros parts of its input](https://arxiv.org/abs/1207.0580) with a given probability (here 0.1) and is usually used to fuzz inputs to prevent overfitting. Here we're using it towards the end of the network to purposely add some chaos and increase sampling variety.\n",
        "\n",
        "![](https://i.imgur.com/jzVrf7f.png)"
      ]
    },
    {
      "cell_type": "code",
      "metadata": {
        "nbpresent": {
          "id": "597a765d-634b-41a8-a0c6-be5c019da150"
        },
        "id": "F0kBlM3N5wLp",
        "colab_type": "code",
        "colab": {}
      },
      "source": [
        "import torch\n",
        "import torch.nn as nn\n",
        "from torch.autograd import Variable\n",
        "\n",
        "class RNN(nn.Module):\n",
        "    def __init__(self, input_size, hidden_size, output_size):\n",
        "        super(RNN, self).__init__()\n",
        "        self.input_size = input_size\n",
        "        self.hidden_size = hidden_size \n",
        "        self.output_size = output_size\n",
        "        \n",
        "        self.i2h = nn.Linear(n_categories + input_size + hidden_size, hidden_size)\n",
        "        self.i2o = nn.Linear(n_categories + input_size + hidden_size, output_size)\n",
        "        self.o2o = nn.Linear(hidden_size + output_size, output_size)\n",
        "        self.softmax = nn.LogSoftmax()\n",
        "    \n",
        "    def forward(self, category, input, hidden):\n",
        "        input_combined = torch.cat((category, input, hidden), 1)\n",
        "        hidden = self.i2h(input_combined)\n",
        "        output = self.i2o(input_combined)\n",
        "        output_combined = torch.cat((hidden, output), 1)\n",
        "        output = self.o2o(output_combined)\n",
        "        return output, hidden\n",
        "\n",
        "    def init_hidden(self):\n",
        "        return Variable(torch.zeros(1, self.hidden_size))"
      ],
      "execution_count": 0,
      "outputs": []
    },
    {
      "cell_type": "markdown",
      "metadata": {
        "nbpresent": {
          "id": "8ff6da45-57cd-46ca-b14a-3f560ce4d345"
        },
        "id": "8N3qhtEr5wLz",
        "colab_type": "text"
      },
      "source": [
        "# Preparing for Training\n",
        "\n",
        "First of all, helper functions to get random pairs of (category, line):"
      ]
    },
    {
      "cell_type": "code",
      "metadata": {
        "id": "-hTxH96I5wL2",
        "colab_type": "code",
        "colab": {}
      },
      "source": [
        "import random\n",
        "\n",
        "# Get a random category and random line from that category\n",
        "def random_training_pair():\n",
        "    category = random.choice(all_categories)\n",
        "    line = random.choice(category_lines[category])\n",
        "    return category, line"
      ],
      "execution_count": 0,
      "outputs": []
    },
    {
      "cell_type": "markdown",
      "metadata": {
        "id": "33x2tHrQ5wL_",
        "colab_type": "text"
      },
      "source": [
        "For each timestep (that is, for each letter in a training word) the inputs of the network will be `(category, current letter, hidden state)` and the outputs will be `(next letter, next hidden state)`. So for each training set, we'll need the category, a set of input letters, and a set of output/target letters.\n",
        "\n",
        "Since we are predicting the next letter from the current letter for each timestep, the letter pairs are groups of consecutive letters from the line - e.g. for `\"ABCD<EOS>\"` we would create (\"A\", \"B\"), (\"B\", \"C\"), (\"C\", \"D\"), (\"D\", \"EOS\").\n",
        "\n",
        "![](https://i.imgur.com/JH58tXY.png)\n",
        "\n",
        "The category tensor is a [one-hot tensor](https://en.wikipedia.org/wiki/One-hot) of size `<1 x n_categories>`. When training we feed it to the network at every timestep - this is a design choice, it could have been included as part of initial hidden state or some other strategy."
      ]
    },
    {
      "cell_type": "code",
      "metadata": {
        "nbpresent": {
          "id": "cf311809-10bf-40f7-87e1-1952342f7f35"
        },
        "id": "wbQYezzn5wMA",
        "colab_type": "code",
        "colab": {}
      },
      "source": [
        "# One-hot vector for category\n",
        "def make_category_input(category):\n",
        "    li = all_categories.index(category)\n",
        "    tensor = torch.zeros(1, n_categories)\n",
        "    tensor[0][li] = 1\n",
        "    return Variable(tensor)\n",
        "\n",
        "# One-hot matrix of first to last letters (not including EOS) for input\n",
        "def make_chars_input(chars):\n",
        "    tensor = torch.zeros(len(chars), n_letters)\n",
        "    for ci in range(len(chars)):\n",
        "        char = chars[ci]\n",
        "        tensor[ci][all_letters.find(char)] = 1\n",
        "    tensor = tensor.view(-1, 1, n_letters)\n",
        "    return Variable(tensor)\n",
        "\n",
        "# LongTensor of second letter to end (EOS) for target\n",
        "def make_target(line):\n",
        "    letter_indexes = [all_letters.find(line[li]) for li in range(1, len(line))]\n",
        "    letter_indexes.append(n_letters - 1) # EOS\n",
        "    tensor = torch.LongTensor(letter_indexes)\n",
        "    return Variable(tensor)"
      ],
      "execution_count": 0,
      "outputs": []
    },
    {
      "cell_type": "markdown",
      "metadata": {
        "id": "gzM9Wxls5wMF",
        "colab_type": "text"
      },
      "source": [
        "For convenience during training we'll make a `random_training_set` function that fetches a random (category, line) pair and turns them into the required (category, input, target) tensors."
      ]
    },
    {
      "cell_type": "code",
      "metadata": {
        "id": "5tLpHgIh5wMI",
        "colab_type": "code",
        "colab": {}
      },
      "source": [
        "# Make category, input, and target tensors from a random category, line pair\n",
        "def random_training_set():\n",
        "    category, line = random_training_pair()\n",
        "    category_input = make_category_input(category)\n",
        "    line_input = make_chars_input(line)\n",
        "    line_target = make_target(line)\n",
        "    return category_input, line_input, line_target"
      ],
      "execution_count": 0,
      "outputs": []
    },
    {
      "cell_type": "markdown",
      "metadata": {
        "nbpresent": {
          "id": "53fb987f-4f42-4bf8-81ae-280ebdd19aee"
        },
        "id": "mHuV8ai65wMQ",
        "colab_type": "text"
      },
      "source": [
        "# Training the Network\n",
        "\n",
        "In contrast to classification, where only the last output is used, we are making a prediction at every step, so we are calculating loss at every step.\n",
        "\n",
        "The magic of autograd allows you to simply sum these losses at each step and call backward at the end. But don't ask me why initializing loss with 0 works."
      ]
    },
    {
      "cell_type": "code",
      "metadata": {
        "nbpresent": {
          "id": "df50f546-6d02-4383-beab-90378f16576b"
        },
        "id": "cgL9_rFx5wMU",
        "colab_type": "code",
        "colab": {}
      },
      "source": [
        "def train(category_tensor, input_line_tensor, target_line_tensor):\n",
        "    hidden = rnn.init_hidden()\n",
        "    optimizer.zero_grad()\n",
        "    loss = 0\n",
        "    \n",
        "    for i in range(input_line_tensor.size()[0]):\n",
        "        output, hidden = rnn(category_tensor, input_line_tensor[i], hidden)\n",
        "        #loss += criterion(output, target_line_tensor[i])\n",
        "        loss += criterion(output, target_line_tensor[i].unsqueeze(0))\n",
        "\n",
        "    loss.backward()\n",
        "    optimizer.step()\n",
        "    \n",
        "    return output, loss.data.item() / input_line_tensor.size()[0]"
      ],
      "execution_count": 0,
      "outputs": []
    },
    {
      "cell_type": "markdown",
      "metadata": {
        "id": "vtHgE9235wMb",
        "colab_type": "text"
      },
      "source": [
        "To keep track of how long training takes I am adding a `time_since(t)` function which returns a human readable string:"
      ]
    },
    {
      "cell_type": "code",
      "metadata": {
        "id": "F40SjCjh5wMd",
        "colab_type": "code",
        "colab": {}
      },
      "source": [
        "import time\n",
        "import math\n",
        "\n",
        "def time_since(t):\n",
        "    now = time.time()\n",
        "    s = now - t\n",
        "    m = math.floor(s / 60)\n",
        "    s -= m * 60\n",
        "    return '%dm %ds' % (m, s)"
      ],
      "execution_count": 0,
      "outputs": []
    },
    {
      "cell_type": "code",
      "metadata": {
        "id": "tJJ07IGyEnic",
        "colab_type": "code",
        "colab": {}
      },
      "source": [
        "category_input, line_input, line_target = random_training_set()\n",
        "\n",
        "print(category_input.size())\n",
        "print(line_input.size())\n",
        "print(line_target.size())"
      ],
      "execution_count": 0,
      "outputs": []
    },
    {
      "cell_type": "markdown",
      "metadata": {
        "id": "fVdao6ZO5wMi",
        "colab_type": "text"
      },
      "source": [
        "Training is business as usual - call train a bunch of times and wait a few minutes, printing the current time and loss every `print_every` epochs, and keeping store of an average loss per `plot_every` epochs in `all_losses` for plotting later."
      ]
    },
    {
      "cell_type": "code",
      "metadata": {
        "nbpresent": {
          "id": "81fde336-785e-461b-a751-718a5f6bff88"
        },
        "scrolled": true,
        "id": "rZnkXB_Z5wMs",
        "colab_type": "code",
        "colab": {}
      },
      "source": [
        "n_epochs = 100000\n",
        "print_every = 5000\n",
        "plot_every = 500\n",
        "all_losses = []\n",
        "loss_avg = 0 # Zero every plot_every epochs to keep a running average\n",
        "learning_rate = 0.0005\n",
        "\n",
        "rnn = RNN(n_letters, 128, n_letters)\n",
        "optimizer = torch.optim.Adam(rnn.parameters(), lr=learning_rate)\n",
        "criterion = nn.CrossEntropyLoss()\n",
        "\n",
        "start = time.time()\n",
        "\n",
        "for epoch in range(1, n_epochs + 1):\n",
        "    output, loss = train(*random_training_set())\n",
        "    loss_avg += loss\n",
        "    \n",
        "    if epoch % print_every == 0:\n",
        "        print('%s (%d %d%%) %.4f' % (time_since(start), epoch, epoch / n_epochs * 100, loss))\n",
        "\n",
        "    if epoch % plot_every == 0:\n",
        "        all_losses.append(loss_avg / plot_every)\n",
        "        loss_avg = 0"
      ],
      "execution_count": 0,
      "outputs": []
    },
    {
      "cell_type": "markdown",
      "metadata": {
        "id": "KBjy3boA5wMz",
        "colab_type": "text"
      },
      "source": [
        "# Plotting the Network\n",
        "\n",
        "Plotting the historical loss from all_losses shows the network learning:"
      ]
    },
    {
      "cell_type": "code",
      "metadata": {
        "scrolled": true,
        "id": "F9OH830r5wM2",
        "colab_type": "code",
        "colab": {}
      },
      "source": [
        "import matplotlib.pyplot as plt\n",
        "import matplotlib.ticker as ticker\n",
        "%matplotlib inline\n",
        "\n",
        "plt.figure()\n",
        "plt.plot(all_losses)"
      ],
      "execution_count": 0,
      "outputs": []
    },
    {
      "cell_type": "markdown",
      "metadata": {
        "id": "dkTcZ5HX5wM9",
        "colab_type": "text"
      },
      "source": [
        "# Sampling the Network\n",
        "\n",
        "To sample we give the network a letter and ask what the next one is, feed that in as the next letter, and repeat until the EOS token.\n",
        "\n",
        "* Create tensors for input category, starting letter, and empty hidden state\n",
        "* Create a string `output_str` with the starting letter\n",
        "* Up to a maximum output length,\n",
        "    * Feed the current letter to the network\n",
        "    * Get the next letter from highest output, and next hidden state\n",
        "    * If the letter is EOS, stop here\n",
        "    * If a regular letter, add to `output_str` and continue\n",
        "* Return the final name\n",
        "\n",
        "*Note*: Rather than supplying a starting letter every time we generate, we could have trained with a \"start of string\" token and had the network choose its own starting letter."
      ]
    },
    {
      "cell_type": "code",
      "metadata": {
        "id": "NT309Gq45wM-",
        "colab_type": "code",
        "colab": {}
      },
      "source": [
        "max_length = 20\n",
        "\n",
        "# Generate given a category and starting letter\n",
        "def generate_one(category, start_char='A', temperature=0.5):\n",
        "    category_input = make_category_input(category)\n",
        "    chars_input = make_chars_input(start_char)\n",
        "    hidden = rnn.init_hidden()\n",
        "\n",
        "    output_str = start_char\n",
        "    \n",
        "    for i in range(max_length):\n",
        "        output, hidden = rnn(category_input, chars_input[0], hidden)\n",
        "        \n",
        "        # Sample as a multinomial distribution\n",
        "        output_dist = output.data.view(-1).div(temperature).exp()\n",
        "        top_i = torch.multinomial(output_dist, 1)[0]\n",
        "        \n",
        "        # Stop at EOS, or add to output_str\n",
        "        if top_i == EOS:\n",
        "            break\n",
        "        else:    \n",
        "            char = all_letters[top_i]\n",
        "            output_str += char\n",
        "            chars_input = make_chars_input(char)\n",
        "\n",
        "    return output_str\n",
        "\n",
        "# Get multiple samples from one category and multiple starting letters\n",
        "def generate(category, start_chars='ABC'):\n",
        "    for start_char in start_chars:\n",
        "        print(generate_one(category, start_char))"
      ],
      "execution_count": 0,
      "outputs": []
    },
    {
      "cell_type": "markdown",
      "metadata": {
        "id": "SxN9tM9SVqnI",
        "colab_type": "text"
      },
      "source": [
        "Play around wih the generate functions below to get results from the network. First parameter is Language and second parameter is multiple startin characters of name. Try running each function calls multiple times. You will see the result is differnt each time.\n",
        "\n",
        "Try with other datasets and play with the temperature parameter in README.md."
      ]
    },
    {
      "cell_type": "code",
      "metadata": {
        "scrolled": false,
        "id": "y6Vl9ktO5wNC",
        "colab_type": "code",
        "colab": {}
      },
      "source": [
        "generate('Russian', 'RUS')"
      ],
      "execution_count": 0,
      "outputs": []
    },
    {
      "cell_type": "code",
      "metadata": {
        "id": "4Kfd_8Ac5wNG",
        "colab_type": "code",
        "colab": {}
      },
      "source": [
        "generate('German', 'GER')"
      ],
      "execution_count": 0,
      "outputs": []
    },
    {
      "cell_type": "code",
      "metadata": {
        "id": "Oj497GdE5wNK",
        "colab_type": "code",
        "colab": {}
      },
      "source": [
        "generate('Spanish', 'SPA')"
      ],
      "execution_count": 0,
      "outputs": []
    },
    {
      "cell_type": "code",
      "metadata": {
        "id": "SzLyIL-S5wNO",
        "colab_type": "code",
        "colab": {}
      },
      "source": [
        "generate('Japanese', 'JPI')"
      ],
      "execution_count": 0,
      "outputs": []
    }
  ]
}