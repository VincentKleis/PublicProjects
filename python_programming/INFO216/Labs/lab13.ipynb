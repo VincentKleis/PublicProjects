{
 "cells": [
  {
   "cell_type": "code",
   "execution_count": 1,
   "metadata": {},
   "outputs": [
    {
     "name": "stderr",
     "output_type": "stream",
     "text": [
      "c:\\Users\\Vincent\\miniconda3\\envs\\info216\\lib\\site-packages\\tqdm\\auto.py:22: TqdmWarning: IProgress not found. Please update jupyter and ipywidgets. See https://ipywidgets.readthedocs.io/en/stable/user_install.html\n",
      "  from .autonotebook import tqdm as notebook_tqdm\n"
     ]
    },
    {
     "name": "stdout",
     "output_type": "stream",
     "text": [
      "['/m/0zlgm', '/m/0zlt9', '/m/0zm1', '/m/0zpfy', '/m/0zq7r', '/m/0zqq', '/m/0zqq8', '/m/0zrlp', '/m/0zygc', '/m/0zz6w']\n",
      "['/tv/tv_program/genre', '/tv/tv_program/languages', '/tv/tv_program/program_creator', '/tv/tv_program/regular_cast./tv/regular_tv_appearance/actor', '/tv/tv_program/tv_producer./tv/tv_producer_term/producer_type', '/tv/tv_writer/tv_programs./tv/tv_program_writer_relationship/tv_program', '/user/alexander/philosophy/philosopher/interests', '/user/jg/default_domain/olympic_games/sports', '/user/ktrueman/default_domain/international_organization/member_states', '/user/tsegaran/random/taxonomy_subject/entry./user/tsegaran/random/taxonomy_entry/taxonomy']\n"
     ]
    }
   ],
   "source": [
    "from torchkge.utils.datasets import load_fb15k237\n",
    "\n",
    "kg_train, kg_val, kg_test = load_fb15k237(data_home='users/vincentkleis/datasets_knowledge_embedding')\n",
    "\n",
    "print(list(kg_train.ent2ix.keys())[-10:])\n",
    "print(list(kg_train.rel2ix.keys())[-10:])"
   ]
  },
  {
   "cell_type": "code",
   "execution_count": null,
   "metadata": {},
   "outputs": [],
   "source": [
    "# Download files with human-readable labels for (most) Freebase entities used in the dataset. Labels seem to be missing # for some entities used in FB15k-237.\n",
    "import json\n",
    "\n",
    "# mac\n",
    "# TEXT_TRIPLES_DIR = '/Users/vincentkleis/datasets_knowledge_embedding/FB15k-237/'\n",
    "# windows\n",
    "TEXT_TRIPLES_DIR = 'c:/Users/Vincent/datasets_knowledge_embedding/FB15k-237/'\n",
    "with open(TEXT_TRIPLES_DIR+'entity2wikidata.json') as file:\n",
    "    _entity2wikidata = json.load(file)\n",
    "\n",
    "    ent2lbl = {\n",
    "        ent: wd['label']\n",
    "        for ent, wd in _entity2wikidata.items()\n",
    "}\n",
    "\n",
    "lbl2ent = {lbl: ent for ent, lbl in ent2lbl.items()}\n",
    "\n",
    "print([\n",
    "    ent2lbl[ent] \n",
    "    for ent in kg_train.ent2ix.keys()\n",
    "    if ent in ent2lbl][-10:])\n",
    "\n",
    "print(lbl2ent)"
   ]
  },
  {
   "cell_type": "code",
   "execution_count": null,
   "metadata": {},
   "outputs": [],
   "source": [
    "print(kg_train.n_facts, kg_test.n_facts, kg_val.n_facts)\n",
    "print(kg_train.n_ent, kg_test.n_ent, kg_val.n_ent)\n",
    "print(kg_train.n_rel, kg_test.n_rel, kg_val.n_rel)"
   ]
  },
  {
   "cell_type": "code",
   "execution_count": null,
   "metadata": {},
   "outputs": [],
   "source": [
    "val_ent_keys = [key for key in kg_val.ent2ix.keys()]\n",
    "test_ent_keys = [key for key in kg_test.ent2ix.keys()]\n",
    "train_ent_keys = [key for key in kg_train.ent2ix.keys()]\n",
    "print(f'10 first entity keys in kg_val: {val_ent_keys[:10]}. 10 first entity keys in kg_test: {test_ent_keys[:10]}. 10 first entity keys in kg_train: {train_ent_keys[:10]}')\n",
    "\n",
    "val_rel_keys = [key for key in kg_val.rel2ix.keys()]\n",
    "test_rel_keys = [key for key in kg_test.rel2ix.keys()]\n",
    "train_rel_keys = [key for key in kg_train.rel2ix.keys()]\n",
    "print(f'10 first relation keys in kg_val: {val_rel_keys[:10]}. \\n10 first relation keys in kg_test: {test_rel_keys[:10]}. \\n10 first relation keys in kg_train: {train_rel_keys[:10]}')"
   ]
  },
  {
   "cell_type": "code",
   "execution_count": 9,
   "metadata": {},
   "outputs": [
    {
     "name": "stdout",
     "output_type": "stream",
     "text": [
      "{'ilo': {'language': 'ilo', 'value': 'Ferdinand Marcos'}, 'de': {'language': 'de', 'value': 'Ferdinand Marcos, Jr.'}, 'en': {'language': 'en', 'value': 'Bongbong Marcos'}, 'tl': {'language': 'tl', 'value': 'Bongbong Marcos'}, 'nl': {'language': 'nl', 'value': 'Ferdinand Marcos jr.'}, 'es': {'language': 'es', 'value': 'Bongbong Marcos'}, 'it': {'language': 'it', 'value': 'Ferdinand Marcos Jr.'}, 'cs': {'language': 'cs', 'value': 'Ferdinand Marcos, Jr.'}, 'sk': {'language': 'sk', 'value': 'Ferdinand Marcos, Jr.'}, 'ru': {'language': 'ru', 'value': 'Фердинанд Маркос-младший'}, 'el': {'language': 'el', 'value': 'Φερδινάντο Μάρκος ο νεώτερος'}, 'nb': {'language': 'nb', 'value': 'Ferdinand Marcos'}, 'fr': {'language': 'fr', 'value': 'Bongbong Marcos'}, 'hy': {'language': 'hy', 'value': 'Ֆերդինանդ Մարկոս'}, 'bcl': {'language': 'bcl', 'value': 'Bongbong Marcos'}, 'hu': {'language': 'hu', 'value': 'Ferdinand \"Bongbong\" Marcos Jr.'}, 'id': {'language': 'id', 'value': 'Bongbong Marcos'}, 'zh': {'language': 'zh', 'value': '小费迪南德·马科斯'}, 'ja': {'language': 'ja', 'value': 'ボンボン・マルコス'}, 'eu': {'language': 'eu', 'value': 'Bongbong Marcos'}, 'ms': {'language': 'ms', 'value': 'Bongbong Marcos'}, 'pt-br': {'language': 'pt-br', 'value': 'Bongbong Marcos'}, 'th': {'language': 'th', 'value': 'บองบอง มาร์กอส'}, 'ko': {'language': 'ko', 'value': '봉봉 마르코스'}, 'sl': {'language': 'sl', 'value': 'Ferdinand Marcos mlajši'}, 'he': {'language': 'he', 'value': 'בונגבונג מרקוס'}, 'ga': {'language': 'ga', 'value': 'Bongbong Marcos'}, 'sv': {'language': 'sv', 'value': 'Bongbong Marcos'}, 'pt': {'language': 'pt', 'value': 'Bongbong Marcos'}, 'hil': {'language': 'hil', 'value': 'Bongbong Marcos'}, 'ceb': {'language': 'ceb', 'value': 'Bongbong Marcos'}, 'pl': {'language': 'pl', 'value': 'Ferdinand Marcos Jr.'}, 'ar': {'language': 'ar', 'value': 'بونغ بونغ ماركوس'}, 'krj': {'language': 'krj', 'value': 'Bongbong Marcos'}, 'ca': {'language': 'ca', 'value': 'Bongbong Marcos'}, 'uk': {'language': 'uk', 'value': 'Бонгбонг Маркос'}, 'da': {'language': 'da', 'value': 'Bongbong Marcos'}, 'ast': {'language': 'ast', 'value': 'Bongbong Marcos'}, 'en-ca': {'language': 'en-ca', 'value': 'Bongbong Marcos'}, 'en-gb': {'language': 'en-gb', 'value': 'Bongbong Marcos'}, 'et': {'language': 'et', 'value': 'Bongbong Marcos'}, 'gl': {'language': 'gl', 'value': 'Bongbong Marcos'}, 'ro': {'language': 'ro', 'value': 'Bongbong Marcos'}, 'sq': {'language': 'sq', 'value': 'Bongbong Marcos'}, 'eo': {'language': 'eo', 'value': 'Bongbong Marcos'}, 'ms-arab': {'language': 'ms-arab', 'value': 'بوڠبوڠ مرکوس'}}\n",
      "<bound method Graph.serialize of <Graph identifier=Ncdf42ca738cc4a0a84f31c5f5ad45201 (<class 'rdflib.graph.Graph'>)>>\n"
     ]
    }
   ],
   "source": [
    "from wikidata.client import Client\n",
    "from rdflib import Graph, Literal\n",
    "from rdflib.namespace import RDF\n",
    "\n",
    "g = Graph()\n",
    "a = RDF.type\n",
    "\n",
    "bong_bong = Client().get('Q983324', load=True)\n",
    "\n",
    "data = bong_bong.data\n",
    "labels = data['labels']\n",
    "print(labels)\n",
    "\n",
    "print(g.serialize)"
   ]
  }
 ],
 "metadata": {
  "interpreter": {
   "hash": "6be1b3138dffb698a31c7bffb0154ec28c3f36195e9a10e9c9acd028c8214f9d"
  },
  "kernelspec": {
   "display_name": "Python 3.9.7 ('info216')",
   "language": "python",
   "name": "python3"
  },
  "language_info": {
   "codemirror_mode": {
    "name": "ipython",
    "version": 3
   },
   "file_extension": ".py",
   "mimetype": "text/x-python",
   "name": "python",
   "nbconvert_exporter": "python",
   "pygments_lexer": "ipython3",
   "version": "3.9.7"
  },
  "orig_nbformat": 4
 },
 "nbformat": 4,
 "nbformat_minor": 2
}
