{
 "cells": [
  {
   "attachments": {},
   "cell_type": "markdown",
   "metadata": {},
   "source": [
    "analyzing all of the data on the internett is imposible, so we have to use advanced knowledge extraction methods to parse web data faster.  \n",
    "first:  \n",
    "scrape    \n",
    "\n",
    "second:  \n",
    "semantic filting    \n",
    "\n",
    "third:  \n",
    "knowledge base  \n",
    "\n",
    "the processes are split over multiple machines that map to some real world machine."
   ]
  },
  {
   "cell_type": "code",
   "execution_count": null,
   "metadata": {},
   "outputs": [],
   "source": []
  }
 ],
 "metadata": {
  "language_info": {
   "name": "python"
  },
  "orig_nbformat": 4
 },
 "nbformat": 4,
 "nbformat_minor": 2
}
