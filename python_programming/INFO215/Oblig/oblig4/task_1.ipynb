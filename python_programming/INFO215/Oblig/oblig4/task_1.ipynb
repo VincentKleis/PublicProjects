{
 "cells": [
  {
   "cell_type": "code",
   "execution_count": 2,
   "metadata": {
    "vscode": {
     "languageId": "shellscript"
    }
   },
   "outputs": [
    {
     "name": "stdout",
     "output_type": "stream",
     "text": [
      "Defaulting to user installation because normal site-packages is not writeable\n",
      "Requirement already satisfied: newspaper3k in /home/vincent/.local/lib/python3.10/site-packages (0.2.8)\n",
      "Requirement already satisfied: requests>=2.10.0 in /usr/lib/python3/dist-packages (from newspaper3k) (2.25.1)\n",
      "Requirement already satisfied: jieba3k>=0.35.1 in /home/vincent/.local/lib/python3.10/site-packages (from newspaper3k) (0.35.1)\n",
      "Requirement already satisfied: PyYAML>=3.11 in /usr/lib/python3/dist-packages (from newspaper3k) (5.4.1)\n",
      "Requirement already satisfied: tinysegmenter==0.3 in /home/vincent/.local/lib/python3.10/site-packages (from newspaper3k) (0.3)\n",
      "Requirement already satisfied: feedfinder2>=0.0.4 in /home/vincent/.local/lib/python3.10/site-packages (from newspaper3k) (0.0.4)\n",
      "Requirement already satisfied: cssselect>=0.9.2 in /home/vincent/.local/lib/python3.10/site-packages (from newspaper3k) (1.2.0)\n",
      "Requirement already satisfied: tldextract>=2.0.1 in /home/vincent/.local/lib/python3.10/site-packages (from newspaper3k) (3.4.0)\n",
      "Requirement already satisfied: python-dateutil>=2.5.3 in /home/vincent/.local/lib/python3.10/site-packages (from newspaper3k) (2.8.2)\n",
      "Requirement already satisfied: Pillow>=3.3.0 in /usr/lib/python3/dist-packages (from newspaper3k) (9.0.1)\n",
      "Requirement already satisfied: beautifulsoup4>=4.4.1 in /home/vincent/.local/lib/python3.10/site-packages (from newspaper3k) (4.11.2)\n",
      "Requirement already satisfied: lxml>=3.6.0 in /home/vincent/.local/lib/python3.10/site-packages (from newspaper3k) (4.9.2)\n",
      "Requirement already satisfied: nltk>=3.2.1 in /home/vincent/.local/lib/python3.10/site-packages (from newspaper3k) (3.8.1)\n",
      "Requirement already satisfied: feedparser>=5.2.1 in /home/vincent/.local/lib/python3.10/site-packages (from newspaper3k) (6.0.10)\n",
      "Requirement already satisfied: soupsieve>1.2 in /home/vincent/.local/lib/python3.10/site-packages (from beautifulsoup4>=4.4.1->newspaper3k) (2.3.2.post1)\n",
      "Requirement already satisfied: six in /usr/lib/python3/dist-packages (from feedfinder2>=0.0.4->newspaper3k) (1.16.0)\n",
      "Requirement already satisfied: sgmllib3k in /home/vincent/.local/lib/python3.10/site-packages (from feedparser>=5.2.1->newspaper3k) (1.0.0)\n",
      "Requirement already satisfied: tqdm in /home/vincent/.local/lib/python3.10/site-packages (from nltk>=3.2.1->newspaper3k) (4.64.1)\n",
      "Requirement already satisfied: joblib in /home/vincent/.local/lib/python3.10/site-packages (from nltk>=3.2.1->newspaper3k) (1.2.0)\n",
      "Requirement already satisfied: click in /usr/lib/python3/dist-packages (from nltk>=3.2.1->newspaper3k) (8.0.3)\n",
      "Requirement already satisfied: regex>=2021.8.3 in /home/vincent/.local/lib/python3.10/site-packages (from nltk>=3.2.1->newspaper3k) (2022.10.31)\n",
      "Requirement already satisfied: idna in /usr/lib/python3/dist-packages (from tldextract>=2.0.1->newspaper3k) (3.3)\n",
      "Requirement already satisfied: requests-file>=1.4 in /home/vincent/.local/lib/python3.10/site-packages (from tldextract>=2.0.1->newspaper3k) (1.5.1)\n",
      "Requirement already satisfied: filelock>=3.0.8 in /home/vincent/.local/lib/python3.10/site-packages (from tldextract>=2.0.1->newspaper3k) (3.9.0)\n",
      "Note: you may need to restart the kernel to use updated packages.\n"
     ]
    }
   ],
   "source": [
    "pip install newspaper3k"
   ]
  },
  {
   "cell_type": "code",
   "execution_count": 3,
   "metadata": {},
   "outputs": [],
   "source": [
    "from newspaper import Article\n",
    "url = 'http://data.gdeltproject.org/gdeltv2/lastupdate.txt'\n",
    "\n",
    "article = Article(url)\n",
    "\n",
    "article.download()"
   ]
  },
  {
   "cell_type": "code",
   "execution_count": 4,
   "metadata": {},
   "outputs": [
    {
     "name": "stdout",
     "output_type": "stream",
     "text": [
      "['http://data.gdeltproject.org/gdeltv2/20230308134500.export.CSV.zip', 'http://data.gdeltproject.org/gdeltv2/20230308134500.mentions.CSV.zip', 'http://data.gdeltproject.org/gdeltv2/20230308134500.gkg.csv.zip']\n"
     ]
    }
   ],
   "source": [
    "zips = article.html\n",
    "\n",
    "zips = zips.split('\\n')\n",
    "\n",
    "things = [thing.split(' ') for thing in zips]\n",
    "\n",
    "links = []\n",
    "for thing in things:\n",
    "    if len(thing)>2:\n",
    "        links.append(thing[2])\n",
    "\n",
    "print(links)\n"
   ]
  },
  {
   "cell_type": "code",
   "execution_count": 17,
   "metadata": {},
   "outputs": [
    {
     "name": "stdout",
     "output_type": "stream",
     "text": [
      "/home/vincent/Git repos/main/INFO215-web science/Oblig/oblig4/20230308134500.export.CSV\n"
     ]
    }
   ],
   "source": [
    "from requests import get\n",
    "from zipfile import ZipFile\n",
    "from io import BytesIO\n",
    "# Method inspired by https://stackoverflow.com/questions/9419162/download-returned-zip-file-from-url\n",
    "zip_files = [get(link).content for link in links]\n",
    "zip_files = [BytesIO(file) for file in zip_files]\n",
    "zip_files = [ZipFile(file, 'r') for file in zip_files]\n",
    "\n",
    "csv_files = []\n",
    "for file in zip_files:\n",
    "    # since i'm only expecting zips of singular csv files i'm always extracting the first file\n",
    "    name = file.namelist()[0]\n",
    "    csv_files.append(file.extract(name))\n",
    "\n",
    "print(csv_files[0])"
   ]
  }
 ],
 "metadata": {
  "kernelspec": {
   "display_name": "Python 3",
   "language": "python",
   "name": "python3"
  },
  "language_info": {
   "codemirror_mode": {
    "name": "ipython",
    "version": 3
   },
   "file_extension": ".py",
   "mimetype": "text/x-python",
   "name": "python",
   "nbconvert_exporter": "python",
   "pygments_lexer": "ipython3",
   "version": "3.10.6"
  },
  "orig_nbformat": 4
 },
 "nbformat": 4,
 "nbformat_minor": 2
}
