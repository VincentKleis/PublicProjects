{
 "cells": [
  {
   "cell_type": "code",
   "execution_count": 2,
   "metadata": {},
   "outputs": [],
   "source": [
    "import pandas as pd\n",
    "churn_csv = \"WA_Fn-UseC_-Telco-Customer-Churn.csv\"\n",
    "df = pd.read_csv(churn_csv)"
   ]
  },
  {
   "cell_type": "code",
   "execution_count": 3,
   "metadata": {},
   "outputs": [
    {
     "name": "stderr",
     "output_type": "stream",
     "text": [
      "/tmp/ipykernel_440263/377987156.py:29: DeprecationWarning: In a future version, `df.iloc[:, i] = newvals` will attempt to set the values inplace instead of always setting a new array. To retain the old behavior, use either `df[df.columns[i]] = newvals` or, if columns are non-unique, `df.isetitem(i, newvals)`\n",
      "  normalized_df.loc[:, column] = values\n"
     ]
    }
   ],
   "source": [
    "# remove customerID\n",
    "df2 = df.drop(columns=[\"customerID\"])\n",
    "\n",
    "# replace the \"no-internet-service\" and \"no-phone-service\" with NaN\n",
    "df2.replace([\"No phone service\", \"No internet service\", \" \"],[pd.NA, pd.NA, pd.NA], inplace=True)\n",
    "\n",
    "# split columns like gender and internet service so that we can test the corelation, \n",
    "# and replace Yes wiht 1 and no with 0\n",
    "df2 = pd.get_dummies(df2, columns=[\"gender\", \"InternetService\", \"Contract\", \"PaymentMethod\"])\n",
    "\n",
    "df2.replace([\"Yes\", \"No\"], [1, 0], inplace=True)\n",
    "\n",
    "# normalize the data and convert str to float where needed\n",
    "df2[\"TotalCharges\"] = df2[\"TotalCharges\"].dropna().astype(float)\n",
    "\n",
    "normalized_df = df2\n",
    "\n",
    "# removes each row with na value\n",
    "normalized_df.dropna(inplace=True)\n",
    "\n",
    "# normalizes the values of each column and replaces the values \n",
    "# of old column with values of the new column\n",
    "for column in normalized_df:\n",
    "    values = normalized_df.loc[:, column]\n",
    "    max_value = max(values)\n",
    "    if column == \"InternetService_No\":\n",
    "        continue\n",
    "    values = [value/max_value for value in values]\n",
    "    normalized_df.loc[:, column] = values"
   ]
  },
  {
   "cell_type": "code",
   "execution_count": 4,
   "metadata": {},
   "outputs": [],
   "source": [
    "from sklearn.model_selection import train_test_split\n",
    "y = normalized_df['Churn']\n",
    "x = normalized_df.drop(columns='Churn')\n",
    "\n",
    "x_train, x_test, y_train, y_test = train_test_split(x, y)"
   ]
  },
  {
   "cell_type": "code",
   "execution_count": 7,
   "metadata": {},
   "outputs": [
    {
     "name": "stderr",
     "output_type": "stream",
     "text": [
      "/home/vincent/.local/lib/python3.10/site-packages/sklearn/model_selection/_validation.py:378: FitFailedWarning: \n",
      "400 fits failed out of a total of 480.\n",
      "The score on these train-test partitions for these parameters will be set to nan.\n",
      "If these failures are not expected, you can try to debug them by setting error_score='raise'.\n",
      "\n",
      "Below are more details about the failures:\n",
      "--------------------------------------------------------------------------------\n",
      "40 fits failed with the following error:\n",
      "Traceback (most recent call last):\n",
      "  File \"/home/vincent/.local/lib/python3.10/site-packages/sklearn/model_selection/_validation.py\", line 686, in _fit_and_score\n",
      "    estimator.fit(X_train, y_train, **fit_params)\n",
      "  File \"/home/vincent/.local/lib/python3.10/site-packages/sklearn/neural_network/_multilayer_perceptron.py\", line 747, in fit\n",
      "    return self._fit(X, y, incremental=False)\n",
      "  File \"/home/vincent/.local/lib/python3.10/site-packages/sklearn/neural_network/_multilayer_perceptron.py\", line 430, in _fit\n",
      "    raise ValueError(\n",
      "ValueError: hidden_layer_sizes must be > 0, got [100, 0, 0].\n",
      "\n",
      "--------------------------------------------------------------------------------\n",
      "40 fits failed with the following error:\n",
      "Traceback (most recent call last):\n",
      "  File \"/home/vincent/.local/lib/python3.10/site-packages/sklearn/model_selection/_validation.py\", line 686, in _fit_and_score\n",
      "    estimator.fit(X_train, y_train, **fit_params)\n",
      "  File \"/home/vincent/.local/lib/python3.10/site-packages/sklearn/neural_network/_multilayer_perceptron.py\", line 747, in fit\n",
      "    return self._fit(X, y, incremental=False)\n",
      "  File \"/home/vincent/.local/lib/python3.10/site-packages/sklearn/neural_network/_multilayer_perceptron.py\", line 430, in _fit\n",
      "    raise ValueError(\n",
      "ValueError: hidden_layer_sizes must be > 0, got [100, 0, 100].\n",
      "\n",
      "--------------------------------------------------------------------------------\n",
      "40 fits failed with the following error:\n",
      "Traceback (most recent call last):\n",
      "  File \"/home/vincent/.local/lib/python3.10/site-packages/sklearn/model_selection/_validation.py\", line 686, in _fit_and_score\n",
      "    estimator.fit(X_train, y_train, **fit_params)\n",
      "  File \"/home/vincent/.local/lib/python3.10/site-packages/sklearn/neural_network/_multilayer_perceptron.py\", line 747, in fit\n",
      "    return self._fit(X, y, incremental=False)\n",
      "  File \"/home/vincent/.local/lib/python3.10/site-packages/sklearn/neural_network/_multilayer_perceptron.py\", line 430, in _fit\n",
      "    raise ValueError(\n",
      "ValueError: hidden_layer_sizes must be > 0, got [100, 100, 0].\n",
      "\n",
      "--------------------------------------------------------------------------------\n",
      "40 fits failed with the following error:\n",
      "Traceback (most recent call last):\n",
      "  File \"/home/vincent/.local/lib/python3.10/site-packages/sklearn/model_selection/_validation.py\", line 686, in _fit_and_score\n",
      "    estimator.fit(X_train, y_train, **fit_params)\n",
      "  File \"/home/vincent/.local/lib/python3.10/site-packages/sklearn/neural_network/_multilayer_perceptron.py\", line 747, in fit\n",
      "    return self._fit(X, y, incremental=False)\n",
      "  File \"/home/vincent/.local/lib/python3.10/site-packages/sklearn/neural_network/_multilayer_perceptron.py\", line 430, in _fit\n",
      "    raise ValueError(\n",
      "ValueError: hidden_layer_sizes must be > 0, got [200, 0, 0].\n",
      "\n",
      "--------------------------------------------------------------------------------\n",
      "40 fits failed with the following error:\n",
      "Traceback (most recent call last):\n",
      "  File \"/home/vincent/.local/lib/python3.10/site-packages/sklearn/model_selection/_validation.py\", line 686, in _fit_and_score\n",
      "    estimator.fit(X_train, y_train, **fit_params)\n",
      "  File \"/home/vincent/.local/lib/python3.10/site-packages/sklearn/neural_network/_multilayer_perceptron.py\", line 747, in fit\n",
      "    return self._fit(X, y, incremental=False)\n",
      "  File \"/home/vincent/.local/lib/python3.10/site-packages/sklearn/neural_network/_multilayer_perceptron.py\", line 430, in _fit\n",
      "    raise ValueError(\n",
      "ValueError: hidden_layer_sizes must be > 0, got [200, 0, 100].\n",
      "\n",
      "--------------------------------------------------------------------------------\n",
      "40 fits failed with the following error:\n",
      "Traceback (most recent call last):\n",
      "  File \"/home/vincent/.local/lib/python3.10/site-packages/sklearn/model_selection/_validation.py\", line 686, in _fit_and_score\n",
      "    estimator.fit(X_train, y_train, **fit_params)\n",
      "  File \"/home/vincent/.local/lib/python3.10/site-packages/sklearn/neural_network/_multilayer_perceptron.py\", line 747, in fit\n",
      "    return self._fit(X, y, incremental=False)\n",
      "  File \"/home/vincent/.local/lib/python3.10/site-packages/sklearn/neural_network/_multilayer_perceptron.py\", line 430, in _fit\n",
      "    raise ValueError(\n",
      "ValueError: hidden_layer_sizes must be > 0, got [200, 100, 0].\n",
      "\n",
      "--------------------------------------------------------------------------------\n",
      "160 fits failed with the following error:\n",
      "Traceback (most recent call last):\n",
      "  File \"/home/vincent/.local/lib/python3.10/site-packages/sklearn/model_selection/_validation.py\", line 686, in _fit_and_score\n",
      "    estimator.fit(X_train, y_train, **fit_params)\n",
      "  File \"/home/vincent/.local/lib/python3.10/site-packages/sklearn/neural_network/_multilayer_perceptron.py\", line 745, in fit\n",
      "    self._validate_params()\n",
      "  File \"/home/vincent/.local/lib/python3.10/site-packages/sklearn/base.py\", line 581, in _validate_params\n",
      "    validate_parameter_constraints(\n",
      "  File \"/home/vincent/.local/lib/python3.10/site-packages/sklearn/utils/_param_validation.py\", line 97, in validate_parameter_constraints\n",
      "    raise InvalidParameterError(\n",
      "sklearn.utils._param_validation.InvalidParameterError: The 'activation' parameter of MLPClassifier must be a str among {'tanh', 'relu', 'identity', 'logistic'}. Got 'tahn' instead.\n",
      "\n",
      "  warnings.warn(some_fits_failed_message, FitFailedWarning)\n",
      "/home/vincent/.local/lib/python3.10/site-packages/sklearn/model_selection/_search.py:952: UserWarning: One or more of the test scores are non-finite: [       nan        nan        nan 0.69784268        nan        nan\n",
      "        nan 0.69514903        nan        nan        nan 0.69164156\n",
      "        nan        nan        nan 0.69784311        nan        nan\n",
      "        nan 0.70094806        nan        nan        nan 0.68273052\n",
      "        nan        nan        nan 0.75848358        nan        nan\n",
      "        nan 0.75889638        nan        nan        nan 0.75869083\n",
      "        nan        nan        nan 0.76076101        nan        nan\n",
      "        nan 0.75620765        nan        nan        nan 0.75620765\n",
      "        nan        nan        nan 0.75620636        nan        nan\n",
      "        nan 0.75868934        nan        nan        nan 0.67177157\n",
      "        nan        nan        nan 0.67177157        nan        nan\n",
      "        nan        nan        nan        nan        nan        nan\n",
      "        nan        nan        nan        nan        nan        nan\n",
      "        nan        nan        nan        nan        nan        nan\n",
      "        nan        nan        nan        nan        nan        nan\n",
      "        nan        nan        nan        nan        nan        nan]\n",
      "  warnings.warn(\n"
     ]
    },
    {
     "ename": "AttributeError",
     "evalue": "'MLPClassifier' object has no attribute 'score_samples'",
     "output_type": "error",
     "traceback": [
      "\u001b[0;31m---------------------------------------------------------------------------\u001b[0m",
      "\u001b[0;31mAttributeError\u001b[0m                            Traceback (most recent call last)",
      "Cell \u001b[0;32mIn[7], line 13\u001b[0m\n\u001b[1;32m     10\u001b[0m grid \u001b[39m=\u001b[39m GridSearchCV(MLPClassifier(max_iter\u001b[39m=\u001b[39m\u001b[39m3000\u001b[39m),parms)\n\u001b[1;32m     11\u001b[0m grid\u001b[39m.\u001b[39mfit(x,y)\n\u001b[0;32m---> 13\u001b[0m scores \u001b[39m=\u001b[39m grid\u001b[39m.\u001b[39;49mscore_samples\n\u001b[1;32m     14\u001b[0m parameters \u001b[39m=\u001b[39m grid\u001b[39m.\u001b[39mget_params\n\u001b[1;32m     16\u001b[0m \u001b[39mfor\u001b[39;00m x,y \u001b[39min\u001b[39;00m \u001b[39mzip\u001b[39m(scores, parameters):\n",
      "File \u001b[0;32m~/.local/lib/python3.10/site-packages/sklearn/utils/_available_if.py:32\u001b[0m, in \u001b[0;36m_AvailableIfDescriptor.__get__\u001b[0;34m(self, obj, owner)\u001b[0m\n\u001b[1;32m     26\u001b[0m attr_err \u001b[39m=\u001b[39m \u001b[39mAttributeError\u001b[39;00m(\n\u001b[1;32m     27\u001b[0m     \u001b[39mf\u001b[39m\u001b[39m\"\u001b[39m\u001b[39mThis \u001b[39m\u001b[39m{\u001b[39;00m\u001b[39mrepr\u001b[39m(owner\u001b[39m.\u001b[39m\u001b[39m__name__\u001b[39m)\u001b[39m}\u001b[39;00m\u001b[39m has no attribute \u001b[39m\u001b[39m{\u001b[39;00m\u001b[39mrepr\u001b[39m(\u001b[39mself\u001b[39m\u001b[39m.\u001b[39mattribute_name)\u001b[39m}\u001b[39;00m\u001b[39m\"\u001b[39m\n\u001b[1;32m     28\u001b[0m )\n\u001b[1;32m     29\u001b[0m \u001b[39mif\u001b[39;00m obj \u001b[39mis\u001b[39;00m \u001b[39mnot\u001b[39;00m \u001b[39mNone\u001b[39;00m:\n\u001b[1;32m     30\u001b[0m     \u001b[39m# delegate only on instances, not the classes.\u001b[39;00m\n\u001b[1;32m     31\u001b[0m     \u001b[39m# this is to allow access to the docstrings.\u001b[39;00m\n\u001b[0;32m---> 32\u001b[0m     \u001b[39mif\u001b[39;00m \u001b[39mnot\u001b[39;00m \u001b[39mself\u001b[39;49m\u001b[39m.\u001b[39;49mcheck(obj):\n\u001b[1;32m     33\u001b[0m         \u001b[39mraise\u001b[39;00m attr_err\n\u001b[1;32m     34\u001b[0m     out \u001b[39m=\u001b[39m MethodType(\u001b[39mself\u001b[39m\u001b[39m.\u001b[39mfn, obj)\n",
      "File \u001b[0;32m~/.local/lib/python3.10/site-packages/sklearn/model_selection/_search.py:362\u001b[0m, in \u001b[0;36m_estimator_has.<locals>.check\u001b[0;34m(self)\u001b[0m\n\u001b[1;32m    359\u001b[0m _check_refit(\u001b[39mself\u001b[39m, attr)\n\u001b[1;32m    360\u001b[0m \u001b[39mif\u001b[39;00m \u001b[39mhasattr\u001b[39m(\u001b[39mself\u001b[39m, \u001b[39m\"\u001b[39m\u001b[39mbest_estimator_\u001b[39m\u001b[39m\"\u001b[39m):\n\u001b[1;32m    361\u001b[0m     \u001b[39m# raise an AttributeError if `attr` does not exist\u001b[39;00m\n\u001b[0;32m--> 362\u001b[0m     \u001b[39mgetattr\u001b[39;49m(\u001b[39mself\u001b[39;49m\u001b[39m.\u001b[39;49mbest_estimator_, attr)\n\u001b[1;32m    363\u001b[0m     \u001b[39mreturn\u001b[39;00m \u001b[39mTrue\u001b[39;00m\n\u001b[1;32m    364\u001b[0m \u001b[39m# raise an AttributeError if `attr` does not exist\u001b[39;00m\n",
      "\u001b[0;31mAttributeError\u001b[0m: 'MLPClassifier' object has no attribute 'score_samples'"
     ]
    }
   ],
   "source": [
    "from sklearn.neural_network import MLPClassifier\n",
    "from sklearn.model_selection import GridSearchCV\n",
    "layer_sizes = [[x,y,z] for x in range(100,300,100) \n",
    "               for y in range(0,200,100) for z in range(0,200,100)]\n",
    "\n",
    "parms = {'hidden_layer_sizes':layer_sizes,\n",
    "         'activation':['relu', 'logistic', 'tahn'],\n",
    "         'alpha':[0.001, 0.01, 0.1, 1]}\n",
    "\n",
    "grid = GridSearchCV(MLPClassifier(max_iter=3000),parms)\n",
    "grid.fit(x,y)"
   ]
  },
  {
   "cell_type": "code",
   "execution_count": 13,
   "metadata": {},
   "outputs": [
    {
     "name": "stdout",
     "output_type": "stream",
     "text": [
      "{'activation': 'logistic', 'alpha': 0.001, 'hidden_layer_sizes': [200, 100, 100]}\n",
      "0.7607610140859544\n"
     ]
    }
   ],
   "source": [
    "parameters = grid.best_params_\n",
    "scores = grid.best_score_\n",
    "\n",
    "print(parameters)\n",
    "print(scores)"
   ]
  }
 ],
 "metadata": {
  "kernelspec": {
   "display_name": "Python 3",
   "language": "python",
   "name": "python3"
  },
  "language_info": {
   "codemirror_mode": {
    "name": "ipython",
    "version": 3
   },
   "file_extension": ".py",
   "mimetype": "text/x-python",
   "name": "python",
   "nbconvert_exporter": "python",
   "pygments_lexer": "ipython3",
   "version": "3.10.6"
  },
  "orig_nbformat": 4
 },
 "nbformat": 4,
 "nbformat_minor": 2
}
