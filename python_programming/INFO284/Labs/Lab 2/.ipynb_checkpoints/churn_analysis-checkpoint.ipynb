{
 "cells": [
  {
   "cell_type": "code",
   "execution_count": 133,
   "metadata": {},
   "outputs": [],
   "source": [
    "import pandas as pd\n",
    "import sklearn.preprocessing as pp"
   ]
  },
  {
   "cell_type": "code",
   "execution_count": 134,
   "metadata": {},
   "outputs": [],
   "source": [
    "chum_csv = \"WA_Fn-UseC_-Telco-Customer-Churn.csv\"\n",
    "df = pd.read_csv(chum_csv)"
   ]
  },
  {
   "cell_type": "code",
   "execution_count": 135,
   "metadata": {},
   "outputs": [
    {
     "name": "stdout",
     "output_type": "stream",
     "text": [
      "Index(['gender', 'SeniorCitizen', 'Partner', 'Dependents', 'tenure',\n",
      "       'PhoneService', 'MultipleLines', 'InternetService', 'OnlineSecurity',\n",
      "       'OnlineBackup', 'DeviceProtection', 'TechSupport', 'StreamingTV',\n",
      "       'StreamingMovies', 'Contract', 'PaperlessBilling', 'PaymentMethod',\n",
      "       'MonthlyCharges', 'TotalCharges', 'Churn'],\n",
      "      dtype='object')\n"
     ]
    }
   ],
   "source": [
    "# remove customerID\n",
    "df2 = df.drop(columns=[\"customerID\"])\n",
    "# replace the \"no-internet-service\" and \"no-phone-service\" with NaN\n",
    "df2.replace([\"No phone service\", \"No internet service\", \" \"],[pd.NA, pd.NA, pd.NA], inplace=True)\n",
    "print(df2.columns)"
   ]
  },
  {
   "cell_type": "code",
   "execution_count": 136,
   "metadata": {},
   "outputs": [
    {
     "name": "stdout",
     "output_type": "stream",
     "text": [
      "Index(['SeniorCitizen', 'Partner', 'Dependents', 'tenure', 'PhoneService',\n",
      "       'MultipleLines', 'OnlineSecurity', 'OnlineBackup', 'DeviceProtection',\n",
      "       'TechSupport', 'StreamingTV', 'StreamingMovies', 'PaperlessBilling',\n",
      "       'MonthlyCharges', 'TotalCharges', 'Churn', 'gender_Female',\n",
      "       'gender_Male', 'InternetService_DSL', 'InternetService_Fiber optic',\n",
      "       'InternetService_No', 'Contract_Month-to-month', 'Contract_One year',\n",
      "       'Contract_Two year', 'PaymentMethod_Bank transfer (automatic)',\n",
      "       'PaymentMethod_Credit card (automatic)',\n",
      "       'PaymentMethod_Electronic check', 'PaymentMethod_Mailed check'],\n",
      "      dtype='object')\n"
     ]
    }
   ],
   "source": [
    "# split columns like gender and internet service so that we can test the corelation, \n",
    "# and replace Yes wiht 1 and no with 0\n",
    "\n",
    "df2 = pd.get_dummies(df2, columns=[\"gender\", \"InternetService\", \"Contract\", \"PaymentMethod\"])\n",
    "\n",
    "df2.replace([\"Yes\", \"No\"], [1, 0], inplace=True)\n",
    "\n",
    "print(df2.columns)"
   ]
  },
  {
   "cell_type": "code",
   "execution_count": 137,
   "metadata": {},
   "outputs": [
    {
     "name": "stdout",
     "output_type": "stream",
     "text": [
      "Index(['SeniorCitizen', 'Partner', 'Dependents', 'tenure', 'PhoneService',\n",
      "       'MultipleLines', 'OnlineSecurity', 'OnlineBackup', 'DeviceProtection',\n",
      "       'TechSupport', 'StreamingTV', 'StreamingMovies', 'PaperlessBilling',\n",
      "       'MonthlyCharges', 'TotalCharges', 'Churn', 'gender_Female',\n",
      "       'gender_Male', 'InternetService_DSL', 'InternetService_Fiber optic',\n",
      "       'InternetService_No', 'Contract_Month-to-month', 'Contract_One year',\n",
      "       'Contract_Two year', 'PaymentMethod_Bank transfer (automatic)',\n",
      "       'PaymentMethod_Credit card (automatic)',\n",
      "       'PaymentMethod_Electronic check', 'PaymentMethod_Mailed check'],\n",
      "      dtype='object')\n"
     ]
    },
    {
     "name": "stderr",
     "output_type": "stream",
     "text": [
      "/tmp/ipykernel_213795/2098859909.py:16: DeprecationWarning: In a future version, `df.iloc[:, i] = newvals` will attempt to set the values inplace instead of always setting a new array. To retain the old behavior, use either `df[df.columns[i]] = newvals` or, if columns are non-unique, `df.isetitem(i, newvals)`\n",
      "  normalized_df.loc[:, column] = values\n"
     ]
    }
   ],
   "source": [
    "# normalize the data and convert str to float where needed\n",
    "df2[\"TotalCharges\"] = df2[\"TotalCharges\"].dropna().astype(float)\n",
    "\n",
    "normalized_df = df2\n",
    "# removes each row with na value\n",
    "normalized_df.dropna(inplace=True)\n",
    "# print(normalized_df2[\"InternetService_No\"])\n",
    "# normalizes the values of each column and replaces the values \n",
    "# of old column with values of the new column\n",
    "for column in normalized_df:\n",
    "    values = normalized_df.loc[:, column]\n",
    "    max_value = max(values)\n",
    "    if column == \"InternetService_No\":\n",
    "        continue\n",
    "    values = [value/max_value for value in values]\n",
    "    normalized_df.loc[:, column] = values\n",
    "\n",
    "print(normalized_df.columns)"
   ]
  },
  {
   "cell_type": "code",
   "execution_count": 138,
   "metadata": {},
   "outputs": [
    {
     "name": "stdout",
     "output_type": "stream",
     "text": [
      "                                            Churn\n",
      "InternetService_No                       0.000000\n",
      "PhoneService                             0.000000\n",
      "gender_Male                              0.011129\n",
      "gender_Female                            0.011129\n",
      "MonthlyCharges                           0.018666\n",
      "MultipleLines                            0.019693\n",
      "PaymentMethod_Mailed check               0.037398\n",
      "StreamingTV                              0.039060\n",
      "StreamingMovies                          0.046348\n",
      "SeniorCitizen                            0.113042\n",
      "PaperlessBilling                         0.137967\n",
      "Dependents                               0.138511\n",
      "PaymentMethod_Bank transfer (automatic)  0.139725\n",
      "PaymentMethod_Credit card (automatic)    0.146398\n",
      "Partner                                  0.169889\n",
      "DeviceProtection                         0.176081\n",
      "Contract_One year                        0.191249\n",
      "OnlineBackup                             0.204154\n",
      "InternetService_Fiber optic              0.257947\n",
      "InternetService_DSL                      0.257947\n",
      "PaymentMethod_Electronic check           0.266300\n",
      "TechSupport                              0.268932\n",
      "OnlineSecurity                           0.278542\n",
      "Contract_Two year                        0.287401\n",
      "TotalCharges                             0.342476\n",
      "Contract_Month-to-month                  0.386448\n",
      "tenure                                   0.401626\n",
      "Churn                                    1.000000\n"
     ]
    }
   ],
   "source": [
    "# find the corelation between every column not Churn and Churn\n",
    "corr = normalized_df.corr()\n",
    "churn_corr= corr[['Churn']].fillna(0)\n",
    "# invert the sign of negative numbers\n",
    "new_churn_corr = []\n",
    "for x in churn_corr[\"Churn\"]:\n",
    "    if x < 0:\n",
    "        new_churn_corr.append(x*-1)\n",
    "    else:\n",
    "        new_churn_corr.append(x)\n",
    "\n",
    "churn_corr['Churn'] = new_churn_corr\n",
    "churn_corr = churn_corr.sort_values(\"Churn\")\n",
    "        \n",
    "print(churn_corr)"
   ]
  },
  {
   "cell_type": "code",
   "execution_count": 139,
   "metadata": {},
   "outputs": [
    {
     "name": "stdout",
     "output_type": "stream",
     "text": [
      "Index(['InternetService_No', 'PhoneService', 'gender_Male', 'gender_Female',\n",
      "       'MonthlyCharges', 'MultipleLines', 'PaymentMethod_Mailed check',\n",
      "       'StreamingTV', 'StreamingMovies', 'SeniorCitizen', 'PaperlessBilling',\n",
      "       'Dependents', 'PaymentMethod_Bank transfer (automatic)',\n",
      "       'PaymentMethod_Credit card (automatic)', 'Partner', 'DeviceProtection',\n",
      "       'Contract_One year', 'OnlineBackup', 'InternetService_Fiber optic',\n",
      "       'InternetService_DSL', 'PaymentMethod_Electronic check', 'TechSupport',\n",
      "       'OnlineSecurity', 'Contract_Two year', 'TotalCharges'],\n",
      "      dtype='object')\n"
     ]
    }
   ],
   "source": [
    "# we find the columns to remove by selecting everything but the last 10\n",
    "to_be_removed = churn_corr[:-3].index\n",
    "\n",
    "# make a new list with no duplication\n",
    "print(to_be_removed)"
   ]
  },
  {
   "cell_type": "code",
   "execution_count": 140,
   "metadata": {},
   "outputs": [
    {
     "name": "stdout",
     "output_type": "stream",
     "text": [
      "Index(['tenure', 'Churn', 'Contract_Month-to-month'], dtype='object')\n"
     ]
    }
   ],
   "source": [
    "# partually prossesed data frame with the least relevant columns removed\n",
    "\n",
    "df4 = df2.drop(columns=to_be_removed)\n",
    "\n",
    "df4 = df4.dropna()\n",
    "\n",
    "print(df4.columns)"
   ]
  },
  {
   "cell_type": "code",
   "execution_count": 141,
   "metadata": {},
   "outputs": [],
   "source": [
    "from sklearn.model_selection import train_test_split\n",
    "# training target\n",
    "y = df4[\"Churn\"]\n",
    "X = df4.drop(columns=\"Churn\")\n",
    "\n",
    "X_train, X_test, y_train, y_test = train_test_split(X, y, random_state=5)"
   ]
  },
  {
   "cell_type": "code",
   "execution_count": 142,
   "metadata": {},
   "outputs": [],
   "source": [
    "from sklearn.neighbors import KNeighborsClassifier\n",
    "neigh = KNeighborsClassifier(n_neighbors=1)\n",
    "neigh.fit(X_train, y_train)\n",
    "\n",
    "predicted_churn = neigh.predict(X_test)"
   ]
  },
  {
   "cell_type": "code",
   "execution_count": 143,
   "metadata": {},
   "outputs": [
    {
     "name": "stdout",
     "output_type": "stream",
     "text": [
      "0.6192052980132451\n",
      "[[651 156]\n",
      " [304  97]]\n"
     ]
    }
   ],
   "source": [
    "from sklearn.metrics import accuracy_score, confusion_matrix\n",
    "\n",
    "print(accuracy_score(y_test, predicted_churn))\n",
    "print(confusion_matrix(y_test, predicted_churn))"
   ]
  },
  {
   "cell_type": "code",
   "execution_count": 153,
   "metadata": {},
   "outputs": [],
   "source": [
    "from pandas import DataFrame\n",
    "def find_accuracy(n_columns_to_keep, n_neigh, dataframe: DataFrame):\n",
    "    to_be_removed_func = churn_corr[:-n_columns_to_keep].index\n",
    "    \n",
    "    df4_func = dataframe.drop(columns=to_be_removed_func)\n",
    "    df4_func = df4_func.dropna()\n",
    "\n",
    "    y_func = df4_func[\"Churn\"]\n",
    "    X_func = df4_func.drop(columns=\"Churn\")\n",
    "\n",
    "    X_func_train, X_func_test, y_func_train, y_func_test = train_test_split(X_func, y_func, random_state=5)\n",
    "    \n",
    "\n",
    "    neigh_n = KNeighborsClassifier(n_neighbors=n_neigh)\n",
    "\n",
    "    neigh_n.fit(X_func_train, y_func_train)\n",
    "\n",
    "    predicted_func_churn = neigh_n.predict(X_func_test)\n",
    "\n",
    "    return accuracy_score(y_func_test, predicted_func_churn)"
   ]
  },
  {
   "cell_type": "code",
   "execution_count": 162,
   "metadata": {},
   "outputs": [],
   "source": [
    "accuracy_results = []\n",
    "\n",
    "for x in range(2, 29):\n",
    "    for n in range(1, 100):\n",
    "        accuracy = find_accuracy(x, n, df2)\n",
    "        accuracy_results.append([x, n, accuracy])"
   ]
  },
  {
   "cell_type": "code",
   "execution_count": 172,
   "metadata": {},
   "outputs": [
    {
     "name": "stdout",
     "output_type": "stream",
     "text": [
      "number of columns       28.000000\n",
      "number of neighbours    99.000000\n",
      "Accuracy                 0.779801\n",
      "dtype: float64\n"
     ]
    }
   ],
   "source": [
    "from seaborn import heatmap\n",
    "accuracy_df = DataFrame(accuracy_results, columns=[\"number of columns\", \"number of neighbours\", \"Accuracy\"])\n",
    "\n",
    "print(accuracy_df.max())"
   ]
  }
 ],
 "metadata": {
  "kernelspec": {
   "display_name": "Python 3 (ipykernel)",
   "language": "python",
   "name": "python3"
  },
  "language_info": {
   "codemirror_mode": {
    "name": "ipython",
    "version": 3
   },
   "file_extension": ".py",
   "mimetype": "text/x-python",
   "name": "python",
   "nbconvert_exporter": "python",
   "pygments_lexer": "ipython3",
   "version": "3.10.6"
  },
  "vscode": {
   "interpreter": {
    "hash": "767d51c1340bd893661ea55ea3124f6de3c7a262a8b4abca0554b478b1e2ff90"
   }
  }
 },
 "nbformat": 4,
 "nbformat_minor": 2
}
