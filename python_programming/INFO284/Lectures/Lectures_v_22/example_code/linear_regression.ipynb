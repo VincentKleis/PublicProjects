{
 "cells": [
  {
   "cell_type": "markdown",
   "metadata": {},
   "source": [
    "This example is a modification of an example in https://towardsdatascience.com/from-linear-regression-to-ridge-regression-the-lasso-and-the-elastic-net-4eaecaf5f7e6"
   ]
  },
  {
   "cell_type": "code",
   "execution_count": 2,
   "metadata": {},
   "outputs": [],
   "source": [
    "import matplotlib.pyplot as plt\n",
    "import numpy as np\n",
    "import pandas as pd\n",
    "import sklearn.linear_model\n",
    "import os\n",
    "cancerData=pd.read_csv('data/prostate.txt',delimiter='\\t')"
   ]
  },
  {
   "cell_type": "code",
   "execution_count": 3,
   "metadata": {
    "scrolled": true
   },
   "outputs": [
    {
     "name": "stdout",
     "output_type": "stream",
     "text": [
      "    id    lcavol   lweight  age      lbph  svi       lcp  gleason  pgg45  \\\n",
      "0    1 -0.579818  2.769459   50 -1.386294    0 -1.386294        6      0   \n",
      "1    2 -0.994252  3.319626   58 -1.386294    0 -1.386294        6      0   \n",
      "2    3 -0.510826  2.691243   74 -1.386294    0 -1.386294        7     20   \n",
      "3    4 -1.203973  3.282789   58 -1.386294    0 -1.386294        6      0   \n",
      "4    5  0.751416  3.432373   62 -1.386294    0 -1.386294        6      0   \n",
      "..  ..       ...       ...  ...       ...  ...       ...      ...    ...   \n",
      "92  93  2.830268  3.876396   68 -1.386294    1  1.321756        7     60   \n",
      "93  94  3.821004  3.896909   44 -1.386294    1  2.169054        7     40   \n",
      "94  95  2.907447  3.396185   52 -1.386294    1  2.463853        7     10   \n",
      "95  96  2.882564  3.773910   68  1.558145    1  1.558145        7     80   \n",
      "96  97  3.471966  3.974998   68  0.438255    1  2.904165        7     20   \n",
      "\n",
      "        lpsa train  \n",
      "0  -0.430783     T  \n",
      "1  -0.162519     T  \n",
      "2  -0.162519     T  \n",
      "3  -0.162519     T  \n",
      "4   0.371564     T  \n",
      "..       ...   ...  \n",
      "92  4.385147     T  \n",
      "93  4.684443     T  \n",
      "94  5.143124     F  \n",
      "95  5.477509     T  \n",
      "96  5.582932     F  \n",
      "\n",
      "[97 rows x 11 columns]\n"
     ]
    }
   ],
   "source": [
    "print(cancerData)"
   ]
  },
  {
   "cell_type": "code",
   "execution_count": 4,
   "metadata": {},
   "outputs": [],
   "source": [
    "trainCancer=cancerData[cancerData.loc[:,'train']=='T']\n",
    "testCancer=cancerData[cancerData.loc[:,'train']=='F']\n",
    "x_train=trainCancer.drop(columns=['id','lpsa','train','svi','gleason'])\n",
    "x_test= testCancer.drop(columns=['id','lpsa','train','svi','gleason'])\n",
    "y_train=trainCancer.loc[:,'lpsa']\n",
    "x_train_scaled=sklearn.preprocessing.scale(x_train, axis=0, with_mean=True,with_std=True, copy=True)\n",
    "x_test_scaled=sklearn.preprocessing.scale(x_test, axis=0, with_mean=True,with_std=True, copy=True)\n",
    "y_test=testCancer.loc[:,'lpsa']\n"
   ]
  },
  {
   "cell_type": "code",
   "execution_count": 6,
   "metadata": {},
   "outputs": [
    {
     "name": "stdout",
     "output_type": "stream",
     "text": [
      "lr.coef_: [ 0.78439116  0.3273385  -0.15323211  0.16153859 -0.15480369  0.28357531]\n",
      "lr.intercept_: 2.4523450850746262\n"
     ]
    }
   ],
   "source": [
    "from sklearn.linear_model import LinearRegression\n",
    "lr = LinearRegression().fit(x_train_scaled,y_train)\n",
    "print(\"lr.coef_:\", lr.coef_)\n",
    "print(\"lr.intercept_:\", lr.intercept_)"
   ]
  },
  {
   "cell_type": "code",
   "execution_count": 7,
   "metadata": {},
   "outputs": [
    {
     "name": "stdout",
     "output_type": "stream",
     "text": [
      "Training set score:  0.66\n",
      "Test set score:  0.40\n"
     ]
    }
   ],
   "source": [
    "print(\"Training set score:  {:.2f}\".format(lr.score(x_train_scaled,y_train)))\n",
    "print(\"Test set score:  {:.2f}\".format(lr.score(x_test_scaled,y_test)))"
   ]
  },
  {
   "cell_type": "markdown",
   "metadata": {},
   "source": [
    "Vary alpha in example below to check effect of regularisation"
   ]
  },
  {
   "cell_type": "code",
   "execution_count": 13,
   "metadata": {},
   "outputs": [
    {
     "name": "stdout",
     "output_type": "stream",
     "text": [
      "lr.coef_: [ 0.45113504  0.25401597 -0.02744823  0.13620735  0.09472754  0.17215893]\n",
      "lr.intercept_: 2.4523450850746262\n",
      "Training set score:  0.61\n",
      "Test set score:  0.47\n"
     ]
    }
   ],
   "source": [
    "from sklearn.linear_model import Ridge\n",
    "lr = Ridge(alpha=30).fit(x_train_scaled,y_train)\n",
    "print(\"lr.coef_:\", lr.coef_)\n",
    "print(\"lr.intercept_:\", lr.intercept_)\n",
    "print(\"Training set score:  {:.2f}\".format(lr.score(x_train_scaled,y_train)))\n",
    "print(\"Test set score:  {:.2f}\".format(lr.score(x_test_scaled,y_test)))"
   ]
  },
  {
   "cell_type": "markdown",
   "metadata": {},
   "source": [
    "Vary alpha in example below to check effect of regularisation"
   ]
  },
  {
   "cell_type": "code",
   "execution_count": 17,
   "metadata": {},
   "outputs": [
    {
     "name": "stdout",
     "output_type": "stream",
     "text": [
      "lr.coef_: [0.60493138 0.19780351 0.         0.         0.         0.03015419]\n",
      "lr.intercept_: 2.4523450850746267\n",
      "Training set score:  0.58\n",
      "Test set score:  0.53\n"
     ]
    }
   ],
   "source": [
    "from sklearn.linear_model import Lasso\n",
    "lr = Lasso(alpha=0.2).fit(x_train_scaled,y_train)\n",
    "print(\"lr.coef_:\", lr.coef_)\n",
    "print(\"lr.intercept_:\", lr.intercept_)\n",
    "print(\"Training set score:  {:.2f}\".format(lr.score(x_train_scaled,y_train)))\n",
    "print(\"Test set score:  {:.2f}\".format(lr.score(x_test_scaled,y_test)))"
   ]
  },
  {
   "cell_type": "code",
   "execution_count": null,
   "metadata": {},
   "outputs": [],
   "source": []
  }
 ],
 "metadata": {
  "kernelspec": {
   "display_name": "Python 3",
   "language": "python",
   "name": "python3"
  },
  "language_info": {
   "codemirror_mode": {
    "name": "ipython",
    "version": 3
   },
   "file_extension": ".py",
   "mimetype": "text/x-python",
   "name": "python",
   "nbconvert_exporter": "python",
   "pygments_lexer": "ipython3",
   "version": "3.8.8"
  }
 },
 "nbformat": 4,
 "nbformat_minor": 4
}
